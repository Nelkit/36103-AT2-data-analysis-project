{
  "cells": [
    {
      "cell_type": "markdown",
      "metadata": {
        "id": "view-in-github",
        "colab_type": "text"
      },
      "source": [
        "<a href=\"https://colab.research.google.com/github/Nelkit/36103-AT2-data-analysis-project/blob/main/36103_AT2B_data_analysis_project(NYC_Property_Sales).ipynb\" target=\"_parent\"><img src=\"https://colab.research.google.com/assets/colab-badge.svg\" alt=\"Open In Colab\"/></a>"
      ]
    },
    {
      "metadata": {
        "id": "7ecbbf899891818a"
      },
      "cell_type": "markdown",
      "source": [
        "# Assessment task 2: Data analysis project\n",
        "\n",
        "\n"
      ],
      "id": "7ecbbf899891818a"
    },
    {
      "cell_type": "markdown",
      "source": [
        "## 📝 TODO List"
      ],
      "metadata": {
        "id": "5ihOtCxH4a3v"
      },
      "id": "5ihOtCxH4a3v"
    },
    {
      "cell_type": "markdown",
      "source": [
        "✅ Project Overview  \n",
        "- [ ] **1.1 Project Description**  \n",
        "- [ ] **1.2 Business Objective**  \n",
        "- [ ] **1.3 Research Questions**  \n",
        "\n",
        "📥 Data Loading and Understanding  \n",
        "- [x] Load the dataset  \n",
        "- [ ] Check for missing values and duplicates  \n",
        "- [ ] Understand data types and structure  \n",
        "\n",
        "📊 Exploratory Data Analysis (EDA)  \n",
        "- [ ] **3.1 Explore features**  \n",
        "- [ ] **3.2 Explore target variable**  \n",
        "- [ ] Visualize distributions, correlations, and patterns  \n",
        "\n",
        "🎯 Feature Selection  \n",
        "- [ ] **4.1 Feature Selection Approach** (correlation, importance scores, etc.)  \n",
        "- [ ] **4.2 Final Selected Features**  \n",
        "\n",
        "🛠 Data Preprocessing  \n",
        "- [ ] **5.1 Data Cleaning** (handle missing values, outliers, duplicates)  \n",
        "- [ ] **5.2 Feature Engineering** (create new features, transformations)  \n",
        "- [ ] **5.3 Data Transformation** (scaling, encoding, normalization)  \n",
        "\n",
        "🤖 Data Modeling  \n",
        "- [ ] **6.1 Generate Predictions with Baseline Model**  \n",
        "- [ ] **6.2 Assess the Baseline Model**  \n",
        "\n",
        "📈 Model Evaluation  \n",
        "- [ ] **7.1 Generate Predictions with Model Selected**  \n",
        "- [ ] **7.2 Assess the Selected Model** (metrics, performance comparison)  \n",
        "\n",
        "🔍 Insights and Conclusions  \n",
        "- [ ] Summarize key findings  \n",
        "- [ ] Discuss model performance and business impact  \n",
        "- [ ] Identify limitations and potential improvements"
      ],
      "metadata": {
        "id": "4UNH6qVH46xJ"
      },
      "id": "4UNH6qVH46xJ"
    },
    {
      "cell_type": "markdown",
      "metadata": {
        "id": "KFVpE17Ahezu"
      },
      "source": [
        "\n",
        "## 0. Setup Environment"
      ],
      "id": "KFVpE17Ahezu"
    },
    {
      "cell_type": "markdown",
      "source": [],
      "metadata": {
        "id": "2_jhf77-W-n-"
      },
      "id": "2_jhf77-W-n-"
    },
    {
      "cell_type": "markdown",
      "source": [
        "### 0.a Install Mandatory Packages\n",
        "\n",
        "> Do not modify this code before running it"
      ],
      "metadata": {
        "id": "kWUmi7fakv5O"
      },
      "id": "kWUmi7fakv5O"
    },
    {
      "cell_type": "code",
      "source": [
        "# Do not modify this code\n",
        "\n",
        "import os\n",
        "import sys\n",
        "from pathlib import Path\n",
        "\n",
        "COURSE = \"36103\"\n",
        "ASSIGNMENT = \"AT2\"\n",
        "DATA = \"data\"\n",
        "\n",
        "asgmt_path = f\"{COURSE}/assignment/{ASSIGNMENT}\"\n",
        "root_path = \"./\"\n",
        "\n",
        "if os.getenv(\"COLAB_RELEASE_TAG\"):\n",
        "\n",
        "    from google.colab import drive\n",
        "    from pathlib import Path\n",
        "\n",
        "    print(\"\\n###### Connect to personal Google Drive ######\")\n",
        "    gdrive_path = \"/content/gdrive\"\n",
        "    drive.mount(gdrive_path)\n",
        "    root_path = f\"{gdrive_path}/MyDrive/\"\n",
        "\n",
        "print(\"\\n###### Setting up folders ######\")\n",
        "folder_path = Path(f\"{root_path}/{asgmt_path}/\") / DATA\n",
        "folder_path.mkdir(parents=True, exist_ok=True)\n",
        "print(f\"\\nYou can now save your data files in: {folder_path}\")\n",
        "\n",
        "if os.getenv(\"COLAB_RELEASE_TAG\"):\n",
        "    %cd {folder_path}\n"
      ],
      "metadata": {
        "colab": {
          "base_uri": "https://localhost:8080/"
        },
        "id": "S8jFaNXqvV5W",
        "outputId": "598ed5f0-7726-4b5a-d18e-9b9eac546c18"
      },
      "execution_count": 1,
      "outputs": [
        {
          "output_type": "stream",
          "name": "stdout",
          "text": [
            "\n",
            "###### Connect to personal Google Drive ######\n",
            "Mounted at /content/gdrive\n",
            "\n",
            "###### Setting up folders ######\n",
            "\n",
            "You can now save your data files in: /content/gdrive/MyDrive/36103/assignment/AT2/data\n",
            "/content/gdrive/MyDrive/36103/assignment/AT2/data\n"
          ]
        }
      ],
      "id": "S8jFaNXqvV5W"
    },
    {
      "cell_type": "markdown",
      "source": [
        "### 0.b Disable Warnings Messages\n",
        "\n",
        "> Do not modify this code before running it"
      ],
      "metadata": {
        "id": "jM39DExClCc5"
      },
      "id": "jM39DExClCc5"
    },
    {
      "cell_type": "code",
      "source": [
        "import warnings\n",
        "warnings.simplefilter(action='ignore', category=FutureWarning)"
      ],
      "metadata": {
        "id": "6FneOmBfka9G"
      },
      "execution_count": null,
      "outputs": [],
      "id": "6FneOmBfka9G"
    },
    {
      "cell_type": "markdown",
      "source": [
        "### 0.c Install Additional Packages\n",
        "\n",
        "> If you are using additional packages, you need to install them here using the command: `! pip install <package_name>`"
      ],
      "metadata": {
        "id": "CgTrMfyylVLf"
      },
      "id": "CgTrMfyylVLf"
    },
    {
      "cell_type": "code",
      "source": [
        "!pip install scipy"
      ],
      "metadata": {
        "id": "D79tb2V-lVpJ",
        "colab": {
          "base_uri": "https://localhost:8080/"
        },
        "outputId": "c6c3f54e-2e6b-4470-d51d-a7e8b75112d6"
      },
      "execution_count": 2,
      "outputs": [
        {
          "output_type": "stream",
          "name": "stdout",
          "text": [
            "Requirement already satisfied: scipy in /usr/local/lib/python3.11/dist-packages (1.14.1)\n",
            "Requirement already satisfied: numpy<2.3,>=1.23.5 in /usr/local/lib/python3.11/dist-packages (from scipy) (2.0.2)\n"
          ]
        }
      ],
      "id": "D79tb2V-lVpJ"
    },
    {
      "cell_type": "markdown",
      "source": [
        "### 0.d Import Packages"
      ],
      "metadata": {
        "id": "mXFKfa2tp1ch"
      },
      "id": "mXFKfa2tp1ch"
    },
    {
      "cell_type": "code",
      "source": [
        "import pandas as pd\n",
        "import numpy as np\n",
        "import altair as alt\n",
        "import seaborn as sns\n",
        "import matplotlib.pyplot as plt\n",
        "import scipy.stats as stats\n",
        "import matplotlib.gridspec as gridspec"
      ],
      "metadata": {
        "id": "GBEAwdncnlAx"
      },
      "execution_count": 3,
      "outputs": [],
      "id": "GBEAwdncnlAx"
    },
    {
      "cell_type": "markdown",
      "source": [
        "### 0.f Reusable Functions"
      ],
      "metadata": {
        "id": "r9E5hpoz53dr"
      },
      "id": "r9E5hpoz53dr"
    },
    {
      "cell_type": "code",
      "source": [],
      "metadata": {
        "id": "py0mLFAikGee"
      },
      "id": "py0mLFAikGee",
      "execution_count": null,
      "outputs": []
    },
    {
      "metadata": {
        "id": "917251fc3a397c7e"
      },
      "cell_type": "markdown",
      "source": [
        "## 1. Project Overview"
      ],
      "id": "917251fc3a397c7e"
    },
    {
      "cell_type": "markdown",
      "source": [
        "### 1.1 Project Description"
      ],
      "metadata": {
        "id": "8ghKYgGcjAtl"
      },
      "id": "8ghKYgGcjAtl"
    },
    {
      "cell_type": "markdown",
      "source": [
        "`Type your project decription here`"
      ],
      "metadata": {
        "id": "W0ADvqenjaG2"
      },
      "id": "W0ADvqenjaG2"
    },
    {
      "cell_type": "markdown",
      "source": [
        "### 1.2 Business Objective"
      ],
      "metadata": {
        "id": "-fiuIvMcjAVJ"
      },
      "id": "-fiuIvMcjAVJ"
    },
    {
      "cell_type": "markdown",
      "source": [
        "`Type your business objective here`"
      ],
      "metadata": {
        "id": "wiyPf1vEjwHj"
      },
      "id": "wiyPf1vEjwHj"
    },
    {
      "cell_type": "markdown",
      "source": [
        "### 1.3 Research Questions"
      ],
      "metadata": {
        "id": "fmGTEspOi40E"
      },
      "id": "fmGTEspOi40E"
    },
    {
      "cell_type": "markdown",
      "source": [
        "`Type your research Questions here`"
      ],
      "metadata": {
        "id": "Rwv29pyrjs4L"
      },
      "id": "Rwv29pyrjs4L"
    },
    {
      "metadata": {
        "id": "8a9dcc98f366960a"
      },
      "cell_type": "markdown",
      "source": [
        "## 2. Data Loading and Understanding"
      ],
      "id": "8a9dcc98f366960a"
    },
    {
      "metadata": {
        "id": "d3993c4a30c5e7dd"
      },
      "cell_type": "code",
      "outputs": [],
      "execution_count": 5,
      "source": [
        "original_df = pd.read_csv(folder_path / \"nyc-rolling-sales.csv\")"
      ],
      "id": "d3993c4a30c5e7dd"
    },
    {
      "metadata": {
        "id": "5705b5000d48113b"
      },
      "cell_type": "markdown",
      "source": [
        "## 3. Exploratory Data Analysis (EDA)"
      ],
      "id": "5705b5000d48113b"
    },
    {
      "cell_type": "markdown",
      "source": [
        "### 3.1 Explore features"
      ],
      "metadata": {
        "id": "AnWMgsJBSy0W"
      },
      "id": "AnWMgsJBSy0W"
    },
    {
      "metadata": {
        "id": "3530f4c7d37d19a0",
        "colab": {
          "base_uri": "https://localhost:8080/",
          "height": 585
        },
        "outputId": "e9b0a947-fac6-4dd4-f1f2-85f6b458da55"
      },
      "cell_type": "code",
      "outputs": [
        {
          "output_type": "execute_result",
          "data": {
            "text/plain": [
              "   Unnamed: 0  BOROUGH   NEIGHBORHOOD  \\\n",
              "0           4        1  ALPHABET CITY   \n",
              "1           5        1  ALPHABET CITY   \n",
              "2           6        1  ALPHABET CITY   \n",
              "3           7        1  ALPHABET CITY   \n",
              "4           8        1  ALPHABET CITY   \n",
              "\n",
              "                       BUILDING CLASS CATEGORY TAX CLASS AT PRESENT  BLOCK  \\\n",
              "0  07 RENTALS - WALKUP APARTMENTS                                2A    392   \n",
              "1  07 RENTALS - WALKUP APARTMENTS                                 2    399   \n",
              "2  07 RENTALS - WALKUP APARTMENTS                                 2    399   \n",
              "3  07 RENTALS - WALKUP APARTMENTS                                2B    402   \n",
              "4  07 RENTALS - WALKUP APARTMENTS                                2A    404   \n",
              "\n",
              "   LOT EASE-MENT BUILDING CLASS AT PRESENT                 ADDRESS  ...  \\\n",
              "0    6                                  C2            153 AVENUE B  ...   \n",
              "1   26                                  C7   234 EAST 4TH   STREET  ...   \n",
              "2   39                                  C7   197 EAST 3RD   STREET  ...   \n",
              "3   21                                  C4     154 EAST 7TH STREET  ...   \n",
              "4   55                                  C2  301 EAST 10TH   STREET  ...   \n",
              "\n",
              "  RESIDENTIAL UNITS  COMMERCIAL UNITS  TOTAL UNITS  LAND SQUARE FEET  \\\n",
              "0                 5                 0            5              1633   \n",
              "1                28                 3           31              4616   \n",
              "2                16                 1           17              2212   \n",
              "3                10                 0           10              2272   \n",
              "4                 6                 0            6              2369   \n",
              "\n",
              "   GROSS SQUARE FEET YEAR BUILT TAX CLASS AT TIME OF SALE  \\\n",
              "0               6440       1900                         2   \n",
              "1              18690       1900                         2   \n",
              "2               7803       1900                         2   \n",
              "3               6794       1913                         2   \n",
              "4               4615       1900                         2   \n",
              "\n",
              "   BUILDING CLASS AT TIME OF SALE  SALE PRICE            SALE DATE  \n",
              "0                              C2     6625000  2017-07-19 00:00:00  \n",
              "1                              C7         -    2016-12-14 00:00:00  \n",
              "2                              C7         -    2016-12-09 00:00:00  \n",
              "3                              C4     3936272  2016-09-23 00:00:00  \n",
              "4                              C2     8000000  2016-11-17 00:00:00  \n",
              "\n",
              "[5 rows x 22 columns]"
            ],
            "text/html": [
              "\n",
              "  <div id=\"df-27c4d0fa-88a9-4b15-a3a3-270babf62d7d\" class=\"colab-df-container\">\n",
              "    <div>\n",
              "<style scoped>\n",
              "    .dataframe tbody tr th:only-of-type {\n",
              "        vertical-align: middle;\n",
              "    }\n",
              "\n",
              "    .dataframe tbody tr th {\n",
              "        vertical-align: top;\n",
              "    }\n",
              "\n",
              "    .dataframe thead th {\n",
              "        text-align: right;\n",
              "    }\n",
              "</style>\n",
              "<table border=\"1\" class=\"dataframe\">\n",
              "  <thead>\n",
              "    <tr style=\"text-align: right;\">\n",
              "      <th></th>\n",
              "      <th>Unnamed: 0</th>\n",
              "      <th>BOROUGH</th>\n",
              "      <th>NEIGHBORHOOD</th>\n",
              "      <th>BUILDING CLASS CATEGORY</th>\n",
              "      <th>TAX CLASS AT PRESENT</th>\n",
              "      <th>BLOCK</th>\n",
              "      <th>LOT</th>\n",
              "      <th>EASE-MENT</th>\n",
              "      <th>BUILDING CLASS AT PRESENT</th>\n",
              "      <th>ADDRESS</th>\n",
              "      <th>...</th>\n",
              "      <th>RESIDENTIAL UNITS</th>\n",
              "      <th>COMMERCIAL UNITS</th>\n",
              "      <th>TOTAL UNITS</th>\n",
              "      <th>LAND SQUARE FEET</th>\n",
              "      <th>GROSS SQUARE FEET</th>\n",
              "      <th>YEAR BUILT</th>\n",
              "      <th>TAX CLASS AT TIME OF SALE</th>\n",
              "      <th>BUILDING CLASS AT TIME OF SALE</th>\n",
              "      <th>SALE PRICE</th>\n",
              "      <th>SALE DATE</th>\n",
              "    </tr>\n",
              "  </thead>\n",
              "  <tbody>\n",
              "    <tr>\n",
              "      <th>0</th>\n",
              "      <td>4</td>\n",
              "      <td>1</td>\n",
              "      <td>ALPHABET CITY</td>\n",
              "      <td>07 RENTALS - WALKUP APARTMENTS</td>\n",
              "      <td>2A</td>\n",
              "      <td>392</td>\n",
              "      <td>6</td>\n",
              "      <td></td>\n",
              "      <td>C2</td>\n",
              "      <td>153 AVENUE B</td>\n",
              "      <td>...</td>\n",
              "      <td>5</td>\n",
              "      <td>0</td>\n",
              "      <td>5</td>\n",
              "      <td>1633</td>\n",
              "      <td>6440</td>\n",
              "      <td>1900</td>\n",
              "      <td>2</td>\n",
              "      <td>C2</td>\n",
              "      <td>6625000</td>\n",
              "      <td>2017-07-19 00:00:00</td>\n",
              "    </tr>\n",
              "    <tr>\n",
              "      <th>1</th>\n",
              "      <td>5</td>\n",
              "      <td>1</td>\n",
              "      <td>ALPHABET CITY</td>\n",
              "      <td>07 RENTALS - WALKUP APARTMENTS</td>\n",
              "      <td>2</td>\n",
              "      <td>399</td>\n",
              "      <td>26</td>\n",
              "      <td></td>\n",
              "      <td>C7</td>\n",
              "      <td>234 EAST 4TH   STREET</td>\n",
              "      <td>...</td>\n",
              "      <td>28</td>\n",
              "      <td>3</td>\n",
              "      <td>31</td>\n",
              "      <td>4616</td>\n",
              "      <td>18690</td>\n",
              "      <td>1900</td>\n",
              "      <td>2</td>\n",
              "      <td>C7</td>\n",
              "      <td>-</td>\n",
              "      <td>2016-12-14 00:00:00</td>\n",
              "    </tr>\n",
              "    <tr>\n",
              "      <th>2</th>\n",
              "      <td>6</td>\n",
              "      <td>1</td>\n",
              "      <td>ALPHABET CITY</td>\n",
              "      <td>07 RENTALS - WALKUP APARTMENTS</td>\n",
              "      <td>2</td>\n",
              "      <td>399</td>\n",
              "      <td>39</td>\n",
              "      <td></td>\n",
              "      <td>C7</td>\n",
              "      <td>197 EAST 3RD   STREET</td>\n",
              "      <td>...</td>\n",
              "      <td>16</td>\n",
              "      <td>1</td>\n",
              "      <td>17</td>\n",
              "      <td>2212</td>\n",
              "      <td>7803</td>\n",
              "      <td>1900</td>\n",
              "      <td>2</td>\n",
              "      <td>C7</td>\n",
              "      <td>-</td>\n",
              "      <td>2016-12-09 00:00:00</td>\n",
              "    </tr>\n",
              "    <tr>\n",
              "      <th>3</th>\n",
              "      <td>7</td>\n",
              "      <td>1</td>\n",
              "      <td>ALPHABET CITY</td>\n",
              "      <td>07 RENTALS - WALKUP APARTMENTS</td>\n",
              "      <td>2B</td>\n",
              "      <td>402</td>\n",
              "      <td>21</td>\n",
              "      <td></td>\n",
              "      <td>C4</td>\n",
              "      <td>154 EAST 7TH STREET</td>\n",
              "      <td>...</td>\n",
              "      <td>10</td>\n",
              "      <td>0</td>\n",
              "      <td>10</td>\n",
              "      <td>2272</td>\n",
              "      <td>6794</td>\n",
              "      <td>1913</td>\n",
              "      <td>2</td>\n",
              "      <td>C4</td>\n",
              "      <td>3936272</td>\n",
              "      <td>2016-09-23 00:00:00</td>\n",
              "    </tr>\n",
              "    <tr>\n",
              "      <th>4</th>\n",
              "      <td>8</td>\n",
              "      <td>1</td>\n",
              "      <td>ALPHABET CITY</td>\n",
              "      <td>07 RENTALS - WALKUP APARTMENTS</td>\n",
              "      <td>2A</td>\n",
              "      <td>404</td>\n",
              "      <td>55</td>\n",
              "      <td></td>\n",
              "      <td>C2</td>\n",
              "      <td>301 EAST 10TH   STREET</td>\n",
              "      <td>...</td>\n",
              "      <td>6</td>\n",
              "      <td>0</td>\n",
              "      <td>6</td>\n",
              "      <td>2369</td>\n",
              "      <td>4615</td>\n",
              "      <td>1900</td>\n",
              "      <td>2</td>\n",
              "      <td>C2</td>\n",
              "      <td>8000000</td>\n",
              "      <td>2016-11-17 00:00:00</td>\n",
              "    </tr>\n",
              "  </tbody>\n",
              "</table>\n",
              "<p>5 rows × 22 columns</p>\n",
              "</div>\n",
              "    <div class=\"colab-df-buttons\">\n",
              "\n",
              "  <div class=\"colab-df-container\">\n",
              "    <button class=\"colab-df-convert\" onclick=\"convertToInteractive('df-27c4d0fa-88a9-4b15-a3a3-270babf62d7d')\"\n",
              "            title=\"Convert this dataframe to an interactive table.\"\n",
              "            style=\"display:none;\">\n",
              "\n",
              "  <svg xmlns=\"http://www.w3.org/2000/svg\" height=\"24px\" viewBox=\"0 -960 960 960\">\n",
              "    <path d=\"M120-120v-720h720v720H120Zm60-500h600v-160H180v160Zm220 220h160v-160H400v160Zm0 220h160v-160H400v160ZM180-400h160v-160H180v160Zm440 0h160v-160H620v160ZM180-180h160v-160H180v160Zm440 0h160v-160H620v160Z\"/>\n",
              "  </svg>\n",
              "    </button>\n",
              "\n",
              "  <style>\n",
              "    .colab-df-container {\n",
              "      display:flex;\n",
              "      gap: 12px;\n",
              "    }\n",
              "\n",
              "    .colab-df-convert {\n",
              "      background-color: #E8F0FE;\n",
              "      border: none;\n",
              "      border-radius: 50%;\n",
              "      cursor: pointer;\n",
              "      display: none;\n",
              "      fill: #1967D2;\n",
              "      height: 32px;\n",
              "      padding: 0 0 0 0;\n",
              "      width: 32px;\n",
              "    }\n",
              "\n",
              "    .colab-df-convert:hover {\n",
              "      background-color: #E2EBFA;\n",
              "      box-shadow: 0px 1px 2px rgba(60, 64, 67, 0.3), 0px 1px 3px 1px rgba(60, 64, 67, 0.15);\n",
              "      fill: #174EA6;\n",
              "    }\n",
              "\n",
              "    .colab-df-buttons div {\n",
              "      margin-bottom: 4px;\n",
              "    }\n",
              "\n",
              "    [theme=dark] .colab-df-convert {\n",
              "      background-color: #3B4455;\n",
              "      fill: #D2E3FC;\n",
              "    }\n",
              "\n",
              "    [theme=dark] .colab-df-convert:hover {\n",
              "      background-color: #434B5C;\n",
              "      box-shadow: 0px 1px 3px 1px rgba(0, 0, 0, 0.15);\n",
              "      filter: drop-shadow(0px 1px 2px rgba(0, 0, 0, 0.3));\n",
              "      fill: #FFFFFF;\n",
              "    }\n",
              "  </style>\n",
              "\n",
              "    <script>\n",
              "      const buttonEl =\n",
              "        document.querySelector('#df-27c4d0fa-88a9-4b15-a3a3-270babf62d7d button.colab-df-convert');\n",
              "      buttonEl.style.display =\n",
              "        google.colab.kernel.accessAllowed ? 'block' : 'none';\n",
              "\n",
              "      async function convertToInteractive(key) {\n",
              "        const element = document.querySelector('#df-27c4d0fa-88a9-4b15-a3a3-270babf62d7d');\n",
              "        const dataTable =\n",
              "          await google.colab.kernel.invokeFunction('convertToInteractive',\n",
              "                                                    [key], {});\n",
              "        if (!dataTable) return;\n",
              "\n",
              "        const docLinkHtml = 'Like what you see? Visit the ' +\n",
              "          '<a target=\"_blank\" href=https://colab.research.google.com/notebooks/data_table.ipynb>data table notebook</a>'\n",
              "          + ' to learn more about interactive tables.';\n",
              "        element.innerHTML = '';\n",
              "        dataTable['output_type'] = 'display_data';\n",
              "        await google.colab.output.renderOutput(dataTable, element);\n",
              "        const docLink = document.createElement('div');\n",
              "        docLink.innerHTML = docLinkHtml;\n",
              "        element.appendChild(docLink);\n",
              "      }\n",
              "    </script>\n",
              "  </div>\n",
              "\n",
              "\n",
              "<div id=\"df-ea7a2e8e-80d2-48d2-a8ec-134631dcf96c\">\n",
              "  <button class=\"colab-df-quickchart\" onclick=\"quickchart('df-ea7a2e8e-80d2-48d2-a8ec-134631dcf96c')\"\n",
              "            title=\"Suggest charts\"\n",
              "            style=\"display:none;\">\n",
              "\n",
              "<svg xmlns=\"http://www.w3.org/2000/svg\" height=\"24px\"viewBox=\"0 0 24 24\"\n",
              "     width=\"24px\">\n",
              "    <g>\n",
              "        <path d=\"M19 3H5c-1.1 0-2 .9-2 2v14c0 1.1.9 2 2 2h14c1.1 0 2-.9 2-2V5c0-1.1-.9-2-2-2zM9 17H7v-7h2v7zm4 0h-2V7h2v10zm4 0h-2v-4h2v4z\"/>\n",
              "    </g>\n",
              "</svg>\n",
              "  </button>\n",
              "\n",
              "<style>\n",
              "  .colab-df-quickchart {\n",
              "      --bg-color: #E8F0FE;\n",
              "      --fill-color: #1967D2;\n",
              "      --hover-bg-color: #E2EBFA;\n",
              "      --hover-fill-color: #174EA6;\n",
              "      --disabled-fill-color: #AAA;\n",
              "      --disabled-bg-color: #DDD;\n",
              "  }\n",
              "\n",
              "  [theme=dark] .colab-df-quickchart {\n",
              "      --bg-color: #3B4455;\n",
              "      --fill-color: #D2E3FC;\n",
              "      --hover-bg-color: #434B5C;\n",
              "      --hover-fill-color: #FFFFFF;\n",
              "      --disabled-bg-color: #3B4455;\n",
              "      --disabled-fill-color: #666;\n",
              "  }\n",
              "\n",
              "  .colab-df-quickchart {\n",
              "    background-color: var(--bg-color);\n",
              "    border: none;\n",
              "    border-radius: 50%;\n",
              "    cursor: pointer;\n",
              "    display: none;\n",
              "    fill: var(--fill-color);\n",
              "    height: 32px;\n",
              "    padding: 0;\n",
              "    width: 32px;\n",
              "  }\n",
              "\n",
              "  .colab-df-quickchart:hover {\n",
              "    background-color: var(--hover-bg-color);\n",
              "    box-shadow: 0 1px 2px rgba(60, 64, 67, 0.3), 0 1px 3px 1px rgba(60, 64, 67, 0.15);\n",
              "    fill: var(--button-hover-fill-color);\n",
              "  }\n",
              "\n",
              "  .colab-df-quickchart-complete:disabled,\n",
              "  .colab-df-quickchart-complete:disabled:hover {\n",
              "    background-color: var(--disabled-bg-color);\n",
              "    fill: var(--disabled-fill-color);\n",
              "    box-shadow: none;\n",
              "  }\n",
              "\n",
              "  .colab-df-spinner {\n",
              "    border: 2px solid var(--fill-color);\n",
              "    border-color: transparent;\n",
              "    border-bottom-color: var(--fill-color);\n",
              "    animation:\n",
              "      spin 1s steps(1) infinite;\n",
              "  }\n",
              "\n",
              "  @keyframes spin {\n",
              "    0% {\n",
              "      border-color: transparent;\n",
              "      border-bottom-color: var(--fill-color);\n",
              "      border-left-color: var(--fill-color);\n",
              "    }\n",
              "    20% {\n",
              "      border-color: transparent;\n",
              "      border-left-color: var(--fill-color);\n",
              "      border-top-color: var(--fill-color);\n",
              "    }\n",
              "    30% {\n",
              "      border-color: transparent;\n",
              "      border-left-color: var(--fill-color);\n",
              "      border-top-color: var(--fill-color);\n",
              "      border-right-color: var(--fill-color);\n",
              "    }\n",
              "    40% {\n",
              "      border-color: transparent;\n",
              "      border-right-color: var(--fill-color);\n",
              "      border-top-color: var(--fill-color);\n",
              "    }\n",
              "    60% {\n",
              "      border-color: transparent;\n",
              "      border-right-color: var(--fill-color);\n",
              "    }\n",
              "    80% {\n",
              "      border-color: transparent;\n",
              "      border-right-color: var(--fill-color);\n",
              "      border-bottom-color: var(--fill-color);\n",
              "    }\n",
              "    90% {\n",
              "      border-color: transparent;\n",
              "      border-bottom-color: var(--fill-color);\n",
              "    }\n",
              "  }\n",
              "</style>\n",
              "\n",
              "  <script>\n",
              "    async function quickchart(key) {\n",
              "      const quickchartButtonEl =\n",
              "        document.querySelector('#' + key + ' button');\n",
              "      quickchartButtonEl.disabled = true;  // To prevent multiple clicks.\n",
              "      quickchartButtonEl.classList.add('colab-df-spinner');\n",
              "      try {\n",
              "        const charts = await google.colab.kernel.invokeFunction(\n",
              "            'suggestCharts', [key], {});\n",
              "      } catch (error) {\n",
              "        console.error('Error during call to suggestCharts:', error);\n",
              "      }\n",
              "      quickchartButtonEl.classList.remove('colab-df-spinner');\n",
              "      quickchartButtonEl.classList.add('colab-df-quickchart-complete');\n",
              "    }\n",
              "    (() => {\n",
              "      let quickchartButtonEl =\n",
              "        document.querySelector('#df-ea7a2e8e-80d2-48d2-a8ec-134631dcf96c button');\n",
              "      quickchartButtonEl.style.display =\n",
              "        google.colab.kernel.accessAllowed ? 'block' : 'none';\n",
              "    })();\n",
              "  </script>\n",
              "</div>\n",
              "\n",
              "    </div>\n",
              "  </div>\n"
            ],
            "application/vnd.google.colaboratory.intrinsic+json": {
              "type": "dataframe",
              "variable_name": "original_df"
            }
          },
          "metadata": {},
          "execution_count": 6
        }
      ],
      "execution_count": 6,
      "source": [
        "original_df.head()"
      ],
      "id": "3530f4c7d37d19a0"
    },
    {
      "cell_type": "code",
      "source": [
        "original_df.info()"
      ],
      "metadata": {
        "id": "wbV-8hu06XZg",
        "outputId": "91514549-dc76-4616-aeb7-a262e3f76a06",
        "colab": {
          "base_uri": "https://localhost:8080/"
        }
      },
      "id": "wbV-8hu06XZg",
      "execution_count": 7,
      "outputs": [
        {
          "output_type": "stream",
          "name": "stdout",
          "text": [
            "<class 'pandas.core.frame.DataFrame'>\n",
            "RangeIndex: 84548 entries, 0 to 84547\n",
            "Data columns (total 22 columns):\n",
            " #   Column                          Non-Null Count  Dtype \n",
            "---  ------                          --------------  ----- \n",
            " 0   Unnamed: 0                      84548 non-null  int64 \n",
            " 1   BOROUGH                         84548 non-null  int64 \n",
            " 2   NEIGHBORHOOD                    84548 non-null  object\n",
            " 3   BUILDING CLASS CATEGORY         84548 non-null  object\n",
            " 4   TAX CLASS AT PRESENT            84548 non-null  object\n",
            " 5   BLOCK                           84548 non-null  int64 \n",
            " 6   LOT                             84548 non-null  int64 \n",
            " 7   EASE-MENT                       84548 non-null  object\n",
            " 8   BUILDING CLASS AT PRESENT       84548 non-null  object\n",
            " 9   ADDRESS                         84548 non-null  object\n",
            " 10  APARTMENT NUMBER                84548 non-null  object\n",
            " 11  ZIP CODE                        84548 non-null  int64 \n",
            " 12  RESIDENTIAL UNITS               84548 non-null  int64 \n",
            " 13  COMMERCIAL UNITS                84548 non-null  int64 \n",
            " 14  TOTAL UNITS                     84548 non-null  int64 \n",
            " 15  LAND SQUARE FEET                84548 non-null  object\n",
            " 16  GROSS SQUARE FEET               84548 non-null  object\n",
            " 17  YEAR BUILT                      84548 non-null  int64 \n",
            " 18  TAX CLASS AT TIME OF SALE       84548 non-null  int64 \n",
            " 19  BUILDING CLASS AT TIME OF SALE  84548 non-null  object\n",
            " 20  SALE PRICE                      84548 non-null  object\n",
            " 21  SALE DATE                       84548 non-null  object\n",
            "dtypes: int64(10), object(12)\n",
            "memory usage: 14.2+ MB\n"
          ]
        }
      ]
    },
    {
      "cell_type": "code",
      "source": [],
      "metadata": {
        "id": "H8FAq7yShg9x"
      },
      "id": "H8FAq7yShg9x",
      "execution_count": null,
      "outputs": []
    },
    {
      "cell_type": "markdown",
      "source": [
        "### 3.2 Explore target variable"
      ],
      "metadata": {
        "id": "RGHGfI84S_3r"
      },
      "id": "RGHGfI84S_3r"
    },
    {
      "cell_type": "code",
      "source": [],
      "metadata": {
        "id": "S2X3xlyTzopP"
      },
      "id": "S2X3xlyTzopP",
      "execution_count": null,
      "outputs": []
    },
    {
      "cell_type": "markdown",
      "source": [
        "## 4. Feature Selection"
      ],
      "metadata": {
        "id": "iZ_LvQlf0PEL"
      },
      "id": "iZ_LvQlf0PEL"
    },
    {
      "cell_type": "markdown",
      "source": [
        "### 4.1 Feature Selection Approach"
      ],
      "metadata": {
        "id": "HnJfvfwt0S1l"
      },
      "id": "HnJfvfwt0S1l"
    },
    {
      "cell_type": "code",
      "source": [],
      "metadata": {
        "id": "a8U0FWwx0aWF"
      },
      "id": "a8U0FWwx0aWF",
      "execution_count": null,
      "outputs": []
    },
    {
      "cell_type": "markdown",
      "source": [
        "### 4.2 Final Selected Features"
      ],
      "metadata": {
        "id": "l9xzyOrI0Wwk"
      },
      "id": "l9xzyOrI0Wwk"
    },
    {
      "cell_type": "code",
      "source": [],
      "metadata": {
        "id": "LRohc0ry0a3k"
      },
      "id": "LRohc0ry0a3k",
      "execution_count": null,
      "outputs": []
    },
    {
      "metadata": {
        "id": "7591cad7ec85e202"
      },
      "cell_type": "markdown",
      "source": [
        "## 5. Data Preprocessing"
      ],
      "id": "7591cad7ec85e202"
    },
    {
      "cell_type": "markdown",
      "source": [
        "### 5.1 Data Cleaning"
      ],
      "metadata": {
        "id": "Rrg0CaUn0o7k"
      },
      "id": "Rrg0CaUn0o7k"
    },
    {
      "cell_type": "code",
      "source": [],
      "metadata": {
        "id": "QAeJRFdo0sio"
      },
      "id": "QAeJRFdo0sio",
      "execution_count": null,
      "outputs": []
    },
    {
      "cell_type": "markdown",
      "source": [
        "### 5.2. Feature Engineering"
      ],
      "metadata": {
        "id": "KYiSs7xG0vdM"
      },
      "id": "KYiSs7xG0vdM"
    },
    {
      "cell_type": "code",
      "source": [],
      "metadata": {
        "id": "JwrOliPg0yiU"
      },
      "id": "JwrOliPg0yiU",
      "execution_count": null,
      "outputs": []
    },
    {
      "cell_type": "markdown",
      "source": [
        "### 5.3 Data Transformation"
      ],
      "metadata": {
        "id": "YFp0EpVQ01m9"
      },
      "id": "YFp0EpVQ01m9"
    },
    {
      "cell_type": "code",
      "source": [],
      "metadata": {
        "id": "pl-EreoR04wU"
      },
      "id": "pl-EreoR04wU",
      "execution_count": null,
      "outputs": []
    },
    {
      "metadata": {
        "id": "55bb057cdcf3e08c"
      },
      "cell_type": "markdown",
      "source": [
        "## 6. Data Modeling"
      ],
      "id": "55bb057cdcf3e08c"
    },
    {
      "cell_type": "markdown",
      "source": [
        "### 6.1 Generate Predictions with Baseline Model"
      ],
      "metadata": {
        "id": "z2_H4z9l1Npx"
      },
      "id": "z2_H4z9l1Npx"
    },
    {
      "metadata": {
        "id": "dd804c114a0a16a7"
      },
      "cell_type": "code",
      "outputs": [],
      "execution_count": null,
      "source": [],
      "id": "dd804c114a0a16a7"
    },
    {
      "cell_type": "markdown",
      "source": [
        "### 6.2 Assess the Baseline Model"
      ],
      "metadata": {
        "id": "9xBz8N_T1Pxj"
      },
      "id": "9xBz8N_T1Pxj"
    },
    {
      "cell_type": "code",
      "source": [],
      "metadata": {
        "id": "fTbj4NJM1Qfq"
      },
      "id": "fTbj4NJM1Qfq",
      "execution_count": null,
      "outputs": []
    },
    {
      "metadata": {
        "id": "5f7622c1324322df"
      },
      "cell_type": "markdown",
      "source": [
        "## 7. Model Evaluation"
      ],
      "id": "5f7622c1324322df"
    },
    {
      "cell_type": "markdown",
      "source": [
        "### 7.1 Generate Predictions with Model Selected"
      ],
      "metadata": {
        "id": "ZyLYSm4W1KYG"
      },
      "id": "ZyLYSm4W1KYG"
    },
    {
      "metadata": {
        "id": "57bee6b5fa96940a"
      },
      "cell_type": "code",
      "outputs": [],
      "execution_count": null,
      "source": [],
      "id": "57bee6b5fa96940a"
    },
    {
      "cell_type": "markdown",
      "source": [
        "### 7.2 Assess the Selected Model"
      ],
      "metadata": {
        "id": "Q71Y5Mq81aks"
      },
      "id": "Q71Y5Mq81aks"
    },
    {
      "cell_type": "code",
      "source": [],
      "metadata": {
        "id": "FDhNpvzS1duP"
      },
      "id": "FDhNpvzS1duP",
      "execution_count": null,
      "outputs": []
    },
    {
      "metadata": {
        "id": "787a6e2d5bd00774"
      },
      "cell_type": "markdown",
      "source": [
        "## 8. Insights and Conclusions"
      ],
      "id": "787a6e2d5bd00774"
    },
    {
      "metadata": {
        "id": "f2a7bbb8f6f4c549"
      },
      "cell_type": "code",
      "outputs": [],
      "execution_count": null,
      "source": [],
      "id": "f2a7bbb8f6f4c549"
    }
  ],
  "metadata": {
    "kernelspec": {
      "display_name": "Python 3",
      "language": "python",
      "name": "python3"
    },
    "language_info": {
      "codemirror_mode": {
        "name": "ipython",
        "version": 2
      },
      "file_extension": ".py",
      "mimetype": "text/x-python",
      "name": "python",
      "nbconvert_exporter": "python",
      "pygments_lexer": "ipython2",
      "version": "2.7.6"
    },
    "colab": {
      "provenance": [],
      "include_colab_link": true
    }
  },
  "nbformat": 4,
  "nbformat_minor": 5
}