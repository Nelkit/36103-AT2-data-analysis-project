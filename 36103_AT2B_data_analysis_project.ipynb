{
  "cells": [
    {
      "cell_type": "markdown",
      "metadata": {
        "id": "view-in-github",
        "colab_type": "text"
      },
      "source": [
        "<a href=\"https://colab.research.google.com/github/Nelkit/36103-AT2-data-analysis-project/blob/nelkit/36103_AT2B_data_analysis_project.ipynb\" target=\"_parent\"><img src=\"https://colab.research.google.com/assets/colab-badge.svg\" alt=\"Open In Colab\"/></a>"
      ]
    },
    {
      "metadata": {
        "id": "7ecbbf899891818a"
      },
      "cell_type": "markdown",
      "source": [
        "# Assessment task 2: Data analysis project\n",
        "\n",
        "\n"
      ],
      "id": "7ecbbf899891818a"
    },
    {
      "cell_type": "markdown",
      "source": [
        "## 📝 TODO List"
      ],
      "metadata": {
        "id": "5ihOtCxH4a3v"
      },
      "id": "5ihOtCxH4a3v"
    },
    {
      "cell_type": "markdown",
      "source": [
        "✅ Project Overview  \n",
        "- [ ] **1.1 Project Description**  \n",
        "- [ ] **1.2 Business Objective**  \n",
        "- [ ] **1.3 Research Questions**  \n",
        "\n",
        "📥 Data Loading and Understanding  \n",
        "- [x] Load the dataset  \n",
        "- [ ] Check for missing values and duplicates  \n",
        "- [ ] Understand data types and structure  \n",
        "\n",
        "📊 Exploratory Data Analysis (EDA)  \n",
        "- [ ] **3.1 Explore features**  \n",
        "- [ ] **3.2 Explore target variable**  \n",
        "- [ ] Visualize distributions, correlations, and patterns  \n",
        "\n",
        "🎯 Feature Selection  \n",
        "- [ ] **4.1 Feature Selection Approach** (correlation, importance scores, etc.)  \n",
        "- [ ] **4.2 Final Selected Features**  \n",
        "\n",
        "🛠 Data Preprocessing  \n",
        "- [ ] **5.1 Data Cleaning** (handle missing values, outliers, duplicates)  \n",
        "- [ ] **5.2 Feature Engineering** (create new features, transformations)  \n",
        "- [ ] **5.3 Data Transformation** (scaling, encoding, normalization)  \n",
        "\n",
        "🤖 Data Modeling  \n",
        "- [ ] **6.1 Generate Predictions with Baseline Model**  \n",
        "- [ ] **6.2 Assess the Baseline Model**  \n",
        "\n",
        "📈 Model Evaluation  \n",
        "- [ ] **7.1 Generate Predictions with Model Selected**  \n",
        "- [ ] **7.2 Assess the Selected Model** (metrics, performance comparison)  \n",
        "\n",
        "🔍 Insights and Conclusions  \n",
        "- [ ] Summarize key findings  \n",
        "- [ ] Discuss model performance and business impact  \n",
        "- [ ] Identify limitations and potential improvements"
      ],
      "metadata": {
        "id": "4UNH6qVH46xJ"
      },
      "id": "4UNH6qVH46xJ"
    },
    {
      "cell_type": "markdown",
      "metadata": {
        "id": "KFVpE17Ahezu"
      },
      "source": [
        "\n",
        "## 0. Setup Environment"
      ],
      "id": "KFVpE17Ahezu"
    },
    {
      "cell_type": "markdown",
      "source": [],
      "metadata": {
        "id": "2_jhf77-W-n-"
      },
      "id": "2_jhf77-W-n-"
    },
    {
      "cell_type": "markdown",
      "source": [
        "### 0.a Install Mandatory Packages\n",
        "\n",
        "> Do not modify this code before running it"
      ],
      "metadata": {
        "id": "kWUmi7fakv5O"
      },
      "id": "kWUmi7fakv5O"
    },
    {
      "cell_type": "code",
      "source": [
        "# Do not modify this code\n",
        "\n",
        "import os\n",
        "import sys\n",
        "from pathlib import Path\n",
        "\n",
        "COURSE = \"36103\"\n",
        "ASSIGNMENT = \"AT2\"\n",
        "DATA = \"data\"\n",
        "\n",
        "asgmt_path = f\"{COURSE}/assignment/{ASSIGNMENT}\"\n",
        "root_path = \"./\"\n",
        "\n",
        "if os.getenv(\"COLAB_RELEASE_TAG\"):\n",
        "\n",
        "    from google.colab import drive\n",
        "    from pathlib import Path\n",
        "\n",
        "    print(\"\\n###### Connect to personal Google Drive ######\")\n",
        "    gdrive_path = \"/content/gdrive\"\n",
        "    drive.mount(gdrive_path)\n",
        "    root_path = f\"{gdrive_path}/MyDrive/\"\n",
        "\n",
        "print(\"\\n###### Setting up folders ######\")\n",
        "folder_path = Path(f\"{root_path}/{asgmt_path}/\") / DATA\n",
        "folder_path.mkdir(parents=True, exist_ok=True)\n",
        "print(f\"\\nYou can now save your data files in: {folder_path}\")\n",
        "\n",
        "if os.getenv(\"COLAB_RELEASE_TAG\"):\n",
        "    %cd {folder_path}\n"
      ],
      "metadata": {
        "colab": {
          "base_uri": "https://localhost:8080/"
        },
        "id": "S8jFaNXqvV5W",
        "outputId": "a7899d3e-2a21-45b0-c2af-812f3fdcae4a"
      },
      "execution_count": 1,
      "outputs": [
        {
          "output_type": "stream",
          "name": "stdout",
          "text": [
            "\n",
            "###### Connect to personal Google Drive ######\n",
            "Mounted at /content/gdrive\n",
            "\n",
            "###### Setting up folders ######\n",
            "\n",
            "You can now save your data files in: /content/gdrive/MyDrive/36103/assignment/AT2/data\n",
            "/content/gdrive/MyDrive/36103/assignment/AT2/data\n"
          ]
        }
      ],
      "id": "S8jFaNXqvV5W"
    },
    {
      "cell_type": "markdown",
      "source": [
        "### 0.b Disable Warnings Messages\n",
        "\n",
        "> Do not modify this code before running it"
      ],
      "metadata": {
        "id": "jM39DExClCc5"
      },
      "id": "jM39DExClCc5"
    },
    {
      "cell_type": "code",
      "source": [
        "import warnings\n",
        "warnings.simplefilter(action='ignore', category=FutureWarning)"
      ],
      "metadata": {
        "id": "6FneOmBfka9G"
      },
      "execution_count": 2,
      "outputs": [],
      "id": "6FneOmBfka9G"
    },
    {
      "cell_type": "markdown",
      "source": [
        "### 0.c Install Additional Packages\n",
        "\n",
        "> If you are using additional packages, you need to install them here using the command: `! pip install <package_name>`"
      ],
      "metadata": {
        "id": "CgTrMfyylVLf"
      },
      "id": "CgTrMfyylVLf"
    },
    {
      "cell_type": "code",
      "source": [
        "!pip install scipy"
      ],
      "metadata": {
        "id": "D79tb2V-lVpJ",
        "colab": {
          "base_uri": "https://localhost:8080/"
        },
        "outputId": "1b4eb2a8-2725-41c5-ca5e-a7abaacce415"
      },
      "execution_count": 3,
      "outputs": [
        {
          "output_type": "stream",
          "name": "stdout",
          "text": [
            "Requirement already satisfied: scipy in /usr/local/lib/python3.11/dist-packages (1.14.1)\n",
            "Requirement already satisfied: numpy<2.3,>=1.23.5 in /usr/local/lib/python3.11/dist-packages (from scipy) (2.0.2)\n"
          ]
        }
      ],
      "id": "D79tb2V-lVpJ"
    },
    {
      "cell_type": "markdown",
      "source": [
        "### 0.d Import Packages"
      ],
      "metadata": {
        "id": "mXFKfa2tp1ch"
      },
      "id": "mXFKfa2tp1ch"
    },
    {
      "cell_type": "code",
      "source": [
        "import ipywidgets as widgets\n",
        "import pandas as pd\n",
        "import numpy as np\n",
        "import altair as alt\n",
        "import seaborn as sns\n",
        "import matplotlib.pyplot as plt\n",
        "import scipy.stats as stats\n",
        "import matplotlib.gridspec as gridspec"
      ],
      "metadata": {
        "id": "GBEAwdncnlAx"
      },
      "execution_count": 4,
      "outputs": [],
      "id": "GBEAwdncnlAx"
    },
    {
      "cell_type": "markdown",
      "source": [
        "### 0.f Reusable Functions"
      ],
      "metadata": {
        "id": "r9E5hpoz53dr"
      },
      "id": "r9E5hpoz53dr"
    },
    {
      "cell_type": "code",
      "source": [],
      "metadata": {
        "id": "py0mLFAikGee"
      },
      "id": "py0mLFAikGee",
      "execution_count": 4,
      "outputs": []
    },
    {
      "metadata": {
        "id": "917251fc3a397c7e"
      },
      "cell_type": "markdown",
      "source": [
        "## 1. Project Overview"
      ],
      "id": "917251fc3a397c7e"
    },
    {
      "cell_type": "code",
      "source": [
        "# @title 1.1 Project Description\n",
        "project_description = \"\"\n",
        "\n",
        "wgt_project_description = widgets.Textarea(\n",
        "    value=None,\n",
        "    placeholder=project_description,\n",
        "    description='Project Description:',\n",
        "    disabled=False,\n",
        "    style={'description_width': 'initial'},\n",
        "    layout=widgets.Layout(height=\"100%\", width=\"auto\")\n",
        ")\n",
        "wgt_project_description"
      ],
      "metadata": {
        "cellView": "form",
        "colab": {
          "base_uri": "https://localhost:8080/",
          "referenced_widgets": [
            "dc26687f928c4db196b14f9e5ecddd50",
            "017158d1a4aa4275aa19044277987833",
            "8dc9332d4dec44cf95c4bc0c58e84780"
          ],
          "height": 62
        },
        "id": "-U21y_pAwdJe",
        "outputId": "41914b39-4a4e-4372-9932-a6c58e98874e"
      },
      "execution_count": null,
      "outputs": [
        {
          "output_type": "display_data",
          "data": {
            "text/plain": [
              "Textarea(value='', description='Project Description:', layout=Layout(height='100%', width='auto'), placeholder…"
            ],
            "application/vnd.jupyter.widget-view+json": {
              "version_major": 2,
              "version_minor": 0,
              "model_id": "dc26687f928c4db196b14f9e5ecddd50"
            }
          },
          "metadata": {}
        }
      ],
      "id": "-U21y_pAwdJe"
    },
    {
      "cell_type": "code",
      "source": [
        "# @title 1.2 Business Objective\n",
        "business_objective = \"\"\n",
        "\n",
        "wgt_business_objective = widgets.Textarea(\n",
        "    value=None,\n",
        "    placeholder=business_objective,\n",
        "    description='Business Objective:',\n",
        "    disabled=False,\n",
        "    style={'description_width': 'initial'},\n",
        "    layout=widgets.Layout(height=\"100%\", width=\"auto\")\n",
        ")\n",
        "wgt_business_objective"
      ],
      "metadata": {
        "colab": {
          "base_uri": "https://localhost:8080/",
          "height": 62,
          "referenced_widgets": [
            "3f2202ba6fb14a16b31551eb2378238a",
            "a1759f6b24dc49728d31f055b2ac8d91",
            "355b510458394ea2bb0f7f40972571ea"
          ]
        },
        "cellView": "form",
        "id": "Bd01AWiRRNAH",
        "outputId": "e4e95554-a6ad-457f-991c-764b1c408ed3"
      },
      "id": "Bd01AWiRRNAH",
      "execution_count": null,
      "outputs": [
        {
          "output_type": "display_data",
          "data": {
            "text/plain": [
              "Textarea(value='', description='Business Objective:', layout=Layout(height='100%', width='auto'), placeholder=…"
            ],
            "application/vnd.jupyter.widget-view+json": {
              "version_major": 2,
              "version_minor": 0,
              "model_id": "3f2202ba6fb14a16b31551eb2378238a"
            }
          },
          "metadata": {}
        }
      ]
    },
    {
      "cell_type": "code",
      "source": [
        "# @title 1.3 Research Questions\n",
        "research_questions = \"\"\n",
        "\n",
        "wgt_research_questions = widgets.Textarea(\n",
        "    value=None,\n",
        "    placeholder=research_questions,\n",
        "    description='Research Questions:',\n",
        "    disabled=False,\n",
        "    style={'description_width': 'initial'},\n",
        "    layout=widgets.Layout(height=\"100%\", width=\"auto\")\n",
        ")\n",
        "wgt_research_questions"
      ],
      "metadata": {
        "colab": {
          "base_uri": "https://localhost:8080/",
          "height": 62,
          "referenced_widgets": [
            "be7c1db020d94305bbce498e836468fb",
            "ee1c2d3fbb2a4d61918d469ff571c881",
            "59b56ba4df114733aacb47596b5faead"
          ]
        },
        "cellView": "form",
        "outputId": "335b0731-bff3-4b35-d9d4-4deac3e4c45f",
        "id": "LMVKBE13zCFx"
      },
      "execution_count": null,
      "outputs": [
        {
          "output_type": "display_data",
          "data": {
            "text/plain": [
              "Textarea(value='', description='Research Questions:', layout=Layout(height='100%', width='auto'), placeholder=…"
            ],
            "application/vnd.jupyter.widget-view+json": {
              "version_major": 2,
              "version_minor": 0,
              "model_id": "be7c1db020d94305bbce498e836468fb"
            }
          },
          "metadata": {}
        }
      ],
      "id": "LMVKBE13zCFx"
    },
    {
      "metadata": {
        "id": "8a9dcc98f366960a"
      },
      "cell_type": "markdown",
      "source": [
        "## 2. Data Loading and Understanding"
      ],
      "id": "8a9dcc98f366960a"
    },
    {
      "metadata": {
        "id": "d3993c4a30c5e7dd"
      },
      "cell_type": "code",
      "outputs": [],
      "execution_count": 7,
      "source": [
        "original_df = pd.read_csv(folder_path / \"UCI_Credit_Card.csv\")"
      ],
      "id": "d3993c4a30c5e7dd"
    },
    {
      "metadata": {
        "id": "5705b5000d48113b"
      },
      "cell_type": "markdown",
      "source": [
        "## 3. Exploratory Data Analysis (EDA)"
      ],
      "id": "5705b5000d48113b"
    },
    {
      "cell_type": "markdown",
      "source": [
        "### 3.1 Explore features"
      ],
      "metadata": {
        "id": "AnWMgsJBSy0W"
      },
      "id": "AnWMgsJBSy0W"
    },
    {
      "metadata": {
        "id": "3530f4c7d37d19a0",
        "colab": {
          "base_uri": "https://localhost:8080/",
          "height": 256
        },
        "outputId": "42a4c3a8-8357-466c-c7ce-6f601c8a7a39"
      },
      "cell_type": "code",
      "outputs": [
        {
          "output_type": "execute_result",
          "data": {
            "text/plain": [
              "   ID  LIMIT_BAL  SEX  EDUCATION  MARRIAGE  AGE  PAY_0  PAY_2  PAY_3  PAY_4  \\\n",
              "0   1    20000.0    2          2         1   24      2      2     -1     -1   \n",
              "1   2   120000.0    2          2         2   26     -1      2      0      0   \n",
              "2   3    90000.0    2          2         2   34      0      0      0      0   \n",
              "3   4    50000.0    2          2         1   37      0      0      0      0   \n",
              "4   5    50000.0    1          2         1   57     -1      0     -1      0   \n",
              "\n",
              "   ...  BILL_AMT4  BILL_AMT5  BILL_AMT6  PAY_AMT1  PAY_AMT2  PAY_AMT3  \\\n",
              "0  ...        0.0        0.0        0.0       0.0     689.0       0.0   \n",
              "1  ...     3272.0     3455.0     3261.0       0.0    1000.0    1000.0   \n",
              "2  ...    14331.0    14948.0    15549.0    1518.0    1500.0    1000.0   \n",
              "3  ...    28314.0    28959.0    29547.0    2000.0    2019.0    1200.0   \n",
              "4  ...    20940.0    19146.0    19131.0    2000.0   36681.0   10000.0   \n",
              "\n",
              "   PAY_AMT4  PAY_AMT5  PAY_AMT6  default.payment.next.month  \n",
              "0       0.0       0.0       0.0                           1  \n",
              "1    1000.0       0.0    2000.0                           1  \n",
              "2    1000.0    1000.0    5000.0                           0  \n",
              "3    1100.0    1069.0    1000.0                           0  \n",
              "4    9000.0     689.0     679.0                           0  \n",
              "\n",
              "[5 rows x 25 columns]"
            ],
            "text/html": [
              "\n",
              "  <div id=\"df-be982e58-19b4-42c3-a38b-c6a90a63d1a9\" class=\"colab-df-container\">\n",
              "    <div>\n",
              "<style scoped>\n",
              "    .dataframe tbody tr th:only-of-type {\n",
              "        vertical-align: middle;\n",
              "    }\n",
              "\n",
              "    .dataframe tbody tr th {\n",
              "        vertical-align: top;\n",
              "    }\n",
              "\n",
              "    .dataframe thead th {\n",
              "        text-align: right;\n",
              "    }\n",
              "</style>\n",
              "<table border=\"1\" class=\"dataframe\">\n",
              "  <thead>\n",
              "    <tr style=\"text-align: right;\">\n",
              "      <th></th>\n",
              "      <th>ID</th>\n",
              "      <th>LIMIT_BAL</th>\n",
              "      <th>SEX</th>\n",
              "      <th>EDUCATION</th>\n",
              "      <th>MARRIAGE</th>\n",
              "      <th>AGE</th>\n",
              "      <th>PAY_0</th>\n",
              "      <th>PAY_2</th>\n",
              "      <th>PAY_3</th>\n",
              "      <th>PAY_4</th>\n",
              "      <th>...</th>\n",
              "      <th>BILL_AMT4</th>\n",
              "      <th>BILL_AMT5</th>\n",
              "      <th>BILL_AMT6</th>\n",
              "      <th>PAY_AMT1</th>\n",
              "      <th>PAY_AMT2</th>\n",
              "      <th>PAY_AMT3</th>\n",
              "      <th>PAY_AMT4</th>\n",
              "      <th>PAY_AMT5</th>\n",
              "      <th>PAY_AMT6</th>\n",
              "      <th>default.payment.next.month</th>\n",
              "    </tr>\n",
              "  </thead>\n",
              "  <tbody>\n",
              "    <tr>\n",
              "      <th>0</th>\n",
              "      <td>1</td>\n",
              "      <td>20000.0</td>\n",
              "      <td>2</td>\n",
              "      <td>2</td>\n",
              "      <td>1</td>\n",
              "      <td>24</td>\n",
              "      <td>2</td>\n",
              "      <td>2</td>\n",
              "      <td>-1</td>\n",
              "      <td>-1</td>\n",
              "      <td>...</td>\n",
              "      <td>0.0</td>\n",
              "      <td>0.0</td>\n",
              "      <td>0.0</td>\n",
              "      <td>0.0</td>\n",
              "      <td>689.0</td>\n",
              "      <td>0.0</td>\n",
              "      <td>0.0</td>\n",
              "      <td>0.0</td>\n",
              "      <td>0.0</td>\n",
              "      <td>1</td>\n",
              "    </tr>\n",
              "    <tr>\n",
              "      <th>1</th>\n",
              "      <td>2</td>\n",
              "      <td>120000.0</td>\n",
              "      <td>2</td>\n",
              "      <td>2</td>\n",
              "      <td>2</td>\n",
              "      <td>26</td>\n",
              "      <td>-1</td>\n",
              "      <td>2</td>\n",
              "      <td>0</td>\n",
              "      <td>0</td>\n",
              "      <td>...</td>\n",
              "      <td>3272.0</td>\n",
              "      <td>3455.0</td>\n",
              "      <td>3261.0</td>\n",
              "      <td>0.0</td>\n",
              "      <td>1000.0</td>\n",
              "      <td>1000.0</td>\n",
              "      <td>1000.0</td>\n",
              "      <td>0.0</td>\n",
              "      <td>2000.0</td>\n",
              "      <td>1</td>\n",
              "    </tr>\n",
              "    <tr>\n",
              "      <th>2</th>\n",
              "      <td>3</td>\n",
              "      <td>90000.0</td>\n",
              "      <td>2</td>\n",
              "      <td>2</td>\n",
              "      <td>2</td>\n",
              "      <td>34</td>\n",
              "      <td>0</td>\n",
              "      <td>0</td>\n",
              "      <td>0</td>\n",
              "      <td>0</td>\n",
              "      <td>...</td>\n",
              "      <td>14331.0</td>\n",
              "      <td>14948.0</td>\n",
              "      <td>15549.0</td>\n",
              "      <td>1518.0</td>\n",
              "      <td>1500.0</td>\n",
              "      <td>1000.0</td>\n",
              "      <td>1000.0</td>\n",
              "      <td>1000.0</td>\n",
              "      <td>5000.0</td>\n",
              "      <td>0</td>\n",
              "    </tr>\n",
              "    <tr>\n",
              "      <th>3</th>\n",
              "      <td>4</td>\n",
              "      <td>50000.0</td>\n",
              "      <td>2</td>\n",
              "      <td>2</td>\n",
              "      <td>1</td>\n",
              "      <td>37</td>\n",
              "      <td>0</td>\n",
              "      <td>0</td>\n",
              "      <td>0</td>\n",
              "      <td>0</td>\n",
              "      <td>...</td>\n",
              "      <td>28314.0</td>\n",
              "      <td>28959.0</td>\n",
              "      <td>29547.0</td>\n",
              "      <td>2000.0</td>\n",
              "      <td>2019.0</td>\n",
              "      <td>1200.0</td>\n",
              "      <td>1100.0</td>\n",
              "      <td>1069.0</td>\n",
              "      <td>1000.0</td>\n",
              "      <td>0</td>\n",
              "    </tr>\n",
              "    <tr>\n",
              "      <th>4</th>\n",
              "      <td>5</td>\n",
              "      <td>50000.0</td>\n",
              "      <td>1</td>\n",
              "      <td>2</td>\n",
              "      <td>1</td>\n",
              "      <td>57</td>\n",
              "      <td>-1</td>\n",
              "      <td>0</td>\n",
              "      <td>-1</td>\n",
              "      <td>0</td>\n",
              "      <td>...</td>\n",
              "      <td>20940.0</td>\n",
              "      <td>19146.0</td>\n",
              "      <td>19131.0</td>\n",
              "      <td>2000.0</td>\n",
              "      <td>36681.0</td>\n",
              "      <td>10000.0</td>\n",
              "      <td>9000.0</td>\n",
              "      <td>689.0</td>\n",
              "      <td>679.0</td>\n",
              "      <td>0</td>\n",
              "    </tr>\n",
              "  </tbody>\n",
              "</table>\n",
              "<p>5 rows × 25 columns</p>\n",
              "</div>\n",
              "    <div class=\"colab-df-buttons\">\n",
              "\n",
              "  <div class=\"colab-df-container\">\n",
              "    <button class=\"colab-df-convert\" onclick=\"convertToInteractive('df-be982e58-19b4-42c3-a38b-c6a90a63d1a9')\"\n",
              "            title=\"Convert this dataframe to an interactive table.\"\n",
              "            style=\"display:none;\">\n",
              "\n",
              "  <svg xmlns=\"http://www.w3.org/2000/svg\" height=\"24px\" viewBox=\"0 -960 960 960\">\n",
              "    <path d=\"M120-120v-720h720v720H120Zm60-500h600v-160H180v160Zm220 220h160v-160H400v160Zm0 220h160v-160H400v160ZM180-400h160v-160H180v160Zm440 0h160v-160H620v160ZM180-180h160v-160H180v160Zm440 0h160v-160H620v160Z\"/>\n",
              "  </svg>\n",
              "    </button>\n",
              "\n",
              "  <style>\n",
              "    .colab-df-container {\n",
              "      display:flex;\n",
              "      gap: 12px;\n",
              "    }\n",
              "\n",
              "    .colab-df-convert {\n",
              "      background-color: #E8F0FE;\n",
              "      border: none;\n",
              "      border-radius: 50%;\n",
              "      cursor: pointer;\n",
              "      display: none;\n",
              "      fill: #1967D2;\n",
              "      height: 32px;\n",
              "      padding: 0 0 0 0;\n",
              "      width: 32px;\n",
              "    }\n",
              "\n",
              "    .colab-df-convert:hover {\n",
              "      background-color: #E2EBFA;\n",
              "      box-shadow: 0px 1px 2px rgba(60, 64, 67, 0.3), 0px 1px 3px 1px rgba(60, 64, 67, 0.15);\n",
              "      fill: #174EA6;\n",
              "    }\n",
              "\n",
              "    .colab-df-buttons div {\n",
              "      margin-bottom: 4px;\n",
              "    }\n",
              "\n",
              "    [theme=dark] .colab-df-convert {\n",
              "      background-color: #3B4455;\n",
              "      fill: #D2E3FC;\n",
              "    }\n",
              "\n",
              "    [theme=dark] .colab-df-convert:hover {\n",
              "      background-color: #434B5C;\n",
              "      box-shadow: 0px 1px 3px 1px rgba(0, 0, 0, 0.15);\n",
              "      filter: drop-shadow(0px 1px 2px rgba(0, 0, 0, 0.3));\n",
              "      fill: #FFFFFF;\n",
              "    }\n",
              "  </style>\n",
              "\n",
              "    <script>\n",
              "      const buttonEl =\n",
              "        document.querySelector('#df-be982e58-19b4-42c3-a38b-c6a90a63d1a9 button.colab-df-convert');\n",
              "      buttonEl.style.display =\n",
              "        google.colab.kernel.accessAllowed ? 'block' : 'none';\n",
              "\n",
              "      async function convertToInteractive(key) {\n",
              "        const element = document.querySelector('#df-be982e58-19b4-42c3-a38b-c6a90a63d1a9');\n",
              "        const dataTable =\n",
              "          await google.colab.kernel.invokeFunction('convertToInteractive',\n",
              "                                                    [key], {});\n",
              "        if (!dataTable) return;\n",
              "\n",
              "        const docLinkHtml = 'Like what you see? Visit the ' +\n",
              "          '<a target=\"_blank\" href=https://colab.research.google.com/notebooks/data_table.ipynb>data table notebook</a>'\n",
              "          + ' to learn more about interactive tables.';\n",
              "        element.innerHTML = '';\n",
              "        dataTable['output_type'] = 'display_data';\n",
              "        await google.colab.output.renderOutput(dataTable, element);\n",
              "        const docLink = document.createElement('div');\n",
              "        docLink.innerHTML = docLinkHtml;\n",
              "        element.appendChild(docLink);\n",
              "      }\n",
              "    </script>\n",
              "  </div>\n",
              "\n",
              "\n",
              "<div id=\"df-9a838f62-2ffe-4b64-a96c-a4ec0df313cc\">\n",
              "  <button class=\"colab-df-quickchart\" onclick=\"quickchart('df-9a838f62-2ffe-4b64-a96c-a4ec0df313cc')\"\n",
              "            title=\"Suggest charts\"\n",
              "            style=\"display:none;\">\n",
              "\n",
              "<svg xmlns=\"http://www.w3.org/2000/svg\" height=\"24px\"viewBox=\"0 0 24 24\"\n",
              "     width=\"24px\">\n",
              "    <g>\n",
              "        <path d=\"M19 3H5c-1.1 0-2 .9-2 2v14c0 1.1.9 2 2 2h14c1.1 0 2-.9 2-2V5c0-1.1-.9-2-2-2zM9 17H7v-7h2v7zm4 0h-2V7h2v10zm4 0h-2v-4h2v4z\"/>\n",
              "    </g>\n",
              "</svg>\n",
              "  </button>\n",
              "\n",
              "<style>\n",
              "  .colab-df-quickchart {\n",
              "      --bg-color: #E8F0FE;\n",
              "      --fill-color: #1967D2;\n",
              "      --hover-bg-color: #E2EBFA;\n",
              "      --hover-fill-color: #174EA6;\n",
              "      --disabled-fill-color: #AAA;\n",
              "      --disabled-bg-color: #DDD;\n",
              "  }\n",
              "\n",
              "  [theme=dark] .colab-df-quickchart {\n",
              "      --bg-color: #3B4455;\n",
              "      --fill-color: #D2E3FC;\n",
              "      --hover-bg-color: #434B5C;\n",
              "      --hover-fill-color: #FFFFFF;\n",
              "      --disabled-bg-color: #3B4455;\n",
              "      --disabled-fill-color: #666;\n",
              "  }\n",
              "\n",
              "  .colab-df-quickchart {\n",
              "    background-color: var(--bg-color);\n",
              "    border: none;\n",
              "    border-radius: 50%;\n",
              "    cursor: pointer;\n",
              "    display: none;\n",
              "    fill: var(--fill-color);\n",
              "    height: 32px;\n",
              "    padding: 0;\n",
              "    width: 32px;\n",
              "  }\n",
              "\n",
              "  .colab-df-quickchart:hover {\n",
              "    background-color: var(--hover-bg-color);\n",
              "    box-shadow: 0 1px 2px rgba(60, 64, 67, 0.3), 0 1px 3px 1px rgba(60, 64, 67, 0.15);\n",
              "    fill: var(--button-hover-fill-color);\n",
              "  }\n",
              "\n",
              "  .colab-df-quickchart-complete:disabled,\n",
              "  .colab-df-quickchart-complete:disabled:hover {\n",
              "    background-color: var(--disabled-bg-color);\n",
              "    fill: var(--disabled-fill-color);\n",
              "    box-shadow: none;\n",
              "  }\n",
              "\n",
              "  .colab-df-spinner {\n",
              "    border: 2px solid var(--fill-color);\n",
              "    border-color: transparent;\n",
              "    border-bottom-color: var(--fill-color);\n",
              "    animation:\n",
              "      spin 1s steps(1) infinite;\n",
              "  }\n",
              "\n",
              "  @keyframes spin {\n",
              "    0% {\n",
              "      border-color: transparent;\n",
              "      border-bottom-color: var(--fill-color);\n",
              "      border-left-color: var(--fill-color);\n",
              "    }\n",
              "    20% {\n",
              "      border-color: transparent;\n",
              "      border-left-color: var(--fill-color);\n",
              "      border-top-color: var(--fill-color);\n",
              "    }\n",
              "    30% {\n",
              "      border-color: transparent;\n",
              "      border-left-color: var(--fill-color);\n",
              "      border-top-color: var(--fill-color);\n",
              "      border-right-color: var(--fill-color);\n",
              "    }\n",
              "    40% {\n",
              "      border-color: transparent;\n",
              "      border-right-color: var(--fill-color);\n",
              "      border-top-color: var(--fill-color);\n",
              "    }\n",
              "    60% {\n",
              "      border-color: transparent;\n",
              "      border-right-color: var(--fill-color);\n",
              "    }\n",
              "    80% {\n",
              "      border-color: transparent;\n",
              "      border-right-color: var(--fill-color);\n",
              "      border-bottom-color: var(--fill-color);\n",
              "    }\n",
              "    90% {\n",
              "      border-color: transparent;\n",
              "      border-bottom-color: var(--fill-color);\n",
              "    }\n",
              "  }\n",
              "</style>\n",
              "\n",
              "  <script>\n",
              "    async function quickchart(key) {\n",
              "      const quickchartButtonEl =\n",
              "        document.querySelector('#' + key + ' button');\n",
              "      quickchartButtonEl.disabled = true;  // To prevent multiple clicks.\n",
              "      quickchartButtonEl.classList.add('colab-df-spinner');\n",
              "      try {\n",
              "        const charts = await google.colab.kernel.invokeFunction(\n",
              "            'suggestCharts', [key], {});\n",
              "      } catch (error) {\n",
              "        console.error('Error during call to suggestCharts:', error);\n",
              "      }\n",
              "      quickchartButtonEl.classList.remove('colab-df-spinner');\n",
              "      quickchartButtonEl.classList.add('colab-df-quickchart-complete');\n",
              "    }\n",
              "    (() => {\n",
              "      let quickchartButtonEl =\n",
              "        document.querySelector('#df-9a838f62-2ffe-4b64-a96c-a4ec0df313cc button');\n",
              "      quickchartButtonEl.style.display =\n",
              "        google.colab.kernel.accessAllowed ? 'block' : 'none';\n",
              "    })();\n",
              "  </script>\n",
              "</div>\n",
              "\n",
              "    </div>\n",
              "  </div>\n"
            ],
            "application/vnd.google.colaboratory.intrinsic+json": {
              "type": "dataframe",
              "variable_name": "original_df"
            }
          },
          "metadata": {},
          "execution_count": 8
        }
      ],
      "execution_count": 8,
      "source": [
        "original_df.head()"
      ],
      "id": "3530f4c7d37d19a0"
    },
    {
      "cell_type": "code",
      "source": [
        "original_df.info()"
      ],
      "metadata": {
        "id": "wbV-8hu06XZg",
        "outputId": "513c5f76-cacf-43fe-8b4d-917cca00ab64",
        "colab": {
          "base_uri": "https://localhost:8080/"
        }
      },
      "id": "wbV-8hu06XZg",
      "execution_count": 10,
      "outputs": [
        {
          "output_type": "stream",
          "name": "stdout",
          "text": [
            "<class 'pandas.core.frame.DataFrame'>\n",
            "RangeIndex: 30000 entries, 0 to 29999\n",
            "Data columns (total 25 columns):\n",
            " #   Column                      Non-Null Count  Dtype  \n",
            "---  ------                      --------------  -----  \n",
            " 0   ID                          30000 non-null  int64  \n",
            " 1   LIMIT_BAL                   30000 non-null  float64\n",
            " 2   SEX                         30000 non-null  int64  \n",
            " 3   EDUCATION                   30000 non-null  int64  \n",
            " 4   MARRIAGE                    30000 non-null  int64  \n",
            " 5   AGE                         30000 non-null  int64  \n",
            " 6   PAY_0                       30000 non-null  int64  \n",
            " 7   PAY_2                       30000 non-null  int64  \n",
            " 8   PAY_3                       30000 non-null  int64  \n",
            " 9   PAY_4                       30000 non-null  int64  \n",
            " 10  PAY_5                       30000 non-null  int64  \n",
            " 11  PAY_6                       30000 non-null  int64  \n",
            " 12  BILL_AMT1                   30000 non-null  float64\n",
            " 13  BILL_AMT2                   30000 non-null  float64\n",
            " 14  BILL_AMT3                   30000 non-null  float64\n",
            " 15  BILL_AMT4                   30000 non-null  float64\n",
            " 16  BILL_AMT5                   30000 non-null  float64\n",
            " 17  BILL_AMT6                   30000 non-null  float64\n",
            " 18  PAY_AMT1                    30000 non-null  float64\n",
            " 19  PAY_AMT2                    30000 non-null  float64\n",
            " 20  PAY_AMT3                    30000 non-null  float64\n",
            " 21  PAY_AMT4                    30000 non-null  float64\n",
            " 22  PAY_AMT5                    30000 non-null  float64\n",
            " 23  PAY_AMT6                    30000 non-null  float64\n",
            " 24  default.payment.next.month  30000 non-null  int64  \n",
            "dtypes: float64(13), int64(12)\n",
            "memory usage: 5.7 MB\n"
          ]
        }
      ]
    },
    {
      "cell_type": "markdown",
      "source": [
        "### 3.2 Explore target variable"
      ],
      "metadata": {
        "id": "RGHGfI84S_3r"
      },
      "id": "RGHGfI84S_3r"
    },
    {
      "cell_type": "code",
      "source": [],
      "metadata": {
        "id": "S2X3xlyTzopP"
      },
      "id": "S2X3xlyTzopP",
      "execution_count": null,
      "outputs": []
    },
    {
      "cell_type": "markdown",
      "source": [
        "## 4. Feature Selection"
      ],
      "metadata": {
        "id": "iZ_LvQlf0PEL"
      },
      "id": "iZ_LvQlf0PEL"
    },
    {
      "cell_type": "markdown",
      "source": [
        "### 4.1 Feature Selection Approach"
      ],
      "metadata": {
        "id": "HnJfvfwt0S1l"
      },
      "id": "HnJfvfwt0S1l"
    },
    {
      "cell_type": "code",
      "source": [],
      "metadata": {
        "id": "a8U0FWwx0aWF"
      },
      "id": "a8U0FWwx0aWF",
      "execution_count": null,
      "outputs": []
    },
    {
      "cell_type": "markdown",
      "source": [
        "### 4.2 Final Selected Features"
      ],
      "metadata": {
        "id": "l9xzyOrI0Wwk"
      },
      "id": "l9xzyOrI0Wwk"
    },
    {
      "cell_type": "code",
      "source": [],
      "metadata": {
        "id": "LRohc0ry0a3k"
      },
      "id": "LRohc0ry0a3k",
      "execution_count": null,
      "outputs": []
    },
    {
      "metadata": {
        "id": "7591cad7ec85e202"
      },
      "cell_type": "markdown",
      "source": [
        "## 5. Data Preprocessing"
      ],
      "id": "7591cad7ec85e202"
    },
    {
      "cell_type": "markdown",
      "source": [
        "### 5.1 Data Cleaning"
      ],
      "metadata": {
        "id": "Rrg0CaUn0o7k"
      },
      "id": "Rrg0CaUn0o7k"
    },
    {
      "cell_type": "code",
      "source": [],
      "metadata": {
        "id": "QAeJRFdo0sio"
      },
      "id": "QAeJRFdo0sio",
      "execution_count": null,
      "outputs": []
    },
    {
      "cell_type": "markdown",
      "source": [
        "### 5.2. Feature Engineering"
      ],
      "metadata": {
        "id": "KYiSs7xG0vdM"
      },
      "id": "KYiSs7xG0vdM"
    },
    {
      "cell_type": "code",
      "source": [],
      "metadata": {
        "id": "JwrOliPg0yiU"
      },
      "id": "JwrOliPg0yiU",
      "execution_count": null,
      "outputs": []
    },
    {
      "cell_type": "markdown",
      "source": [
        "### 5.3 Data Transformation"
      ],
      "metadata": {
        "id": "YFp0EpVQ01m9"
      },
      "id": "YFp0EpVQ01m9"
    },
    {
      "cell_type": "code",
      "source": [],
      "metadata": {
        "id": "pl-EreoR04wU"
      },
      "id": "pl-EreoR04wU",
      "execution_count": null,
      "outputs": []
    },
    {
      "metadata": {
        "id": "55bb057cdcf3e08c"
      },
      "cell_type": "markdown",
      "source": [
        "## 6. Data Modeling"
      ],
      "id": "55bb057cdcf3e08c"
    },
    {
      "cell_type": "markdown",
      "source": [
        "### 6.1 Generate Predictions with Baseline Model"
      ],
      "metadata": {
        "id": "z2_H4z9l1Npx"
      },
      "id": "z2_H4z9l1Npx"
    },
    {
      "metadata": {
        "id": "dd804c114a0a16a7"
      },
      "cell_type": "code",
      "outputs": [],
      "execution_count": null,
      "source": [],
      "id": "dd804c114a0a16a7"
    },
    {
      "cell_type": "markdown",
      "source": [
        "### 6.2 Assess the Baseline Model"
      ],
      "metadata": {
        "id": "9xBz8N_T1Pxj"
      },
      "id": "9xBz8N_T1Pxj"
    },
    {
      "cell_type": "code",
      "source": [],
      "metadata": {
        "id": "fTbj4NJM1Qfq"
      },
      "id": "fTbj4NJM1Qfq",
      "execution_count": null,
      "outputs": []
    },
    {
      "metadata": {
        "id": "5f7622c1324322df"
      },
      "cell_type": "markdown",
      "source": [
        "## 7. Model Evaluation"
      ],
      "id": "5f7622c1324322df"
    },
    {
      "cell_type": "markdown",
      "source": [
        "### 7.1 Generate Predictions with Model Selected"
      ],
      "metadata": {
        "id": "ZyLYSm4W1KYG"
      },
      "id": "ZyLYSm4W1KYG"
    },
    {
      "metadata": {
        "id": "57bee6b5fa96940a"
      },
      "cell_type": "code",
      "outputs": [],
      "execution_count": null,
      "source": [],
      "id": "57bee6b5fa96940a"
    },
    {
      "cell_type": "markdown",
      "source": [
        "### 7.2 Assess the Selected Model"
      ],
      "metadata": {
        "id": "Q71Y5Mq81aks"
      },
      "id": "Q71Y5Mq81aks"
    },
    {
      "cell_type": "code",
      "source": [],
      "metadata": {
        "id": "FDhNpvzS1duP"
      },
      "id": "FDhNpvzS1duP",
      "execution_count": null,
      "outputs": []
    },
    {
      "metadata": {
        "id": "787a6e2d5bd00774"
      },
      "cell_type": "markdown",
      "source": [
        "## 8. Insights and Conclusions"
      ],
      "id": "787a6e2d5bd00774"
    },
    {
      "metadata": {
        "id": "f2a7bbb8f6f4c549"
      },
      "cell_type": "code",
      "outputs": [],
      "execution_count": null,
      "source": [],
      "id": "f2a7bbb8f6f4c549"
    }
  ],
  "metadata": {
    "kernelspec": {
      "display_name": "Python 3",
      "language": "python",
      "name": "python3"
    },
    "language_info": {
      "codemirror_mode": {
        "name": "ipython",
        "version": 2
      },
      "file_extension": ".py",
      "mimetype": "text/x-python",
      "name": "python",
      "nbconvert_exporter": "python",
      "pygments_lexer": "ipython2",
      "version": "2.7.6"
    },
    "colab": {
      "provenance": [],
      "include_colab_link": true
    },
    "widgets": {
      "application/vnd.jupyter.widget-state+json": {
        "dc26687f928c4db196b14f9e5ecddd50": {
          "model_module": "@jupyter-widgets/controls",
          "model_name": "TextareaModel",
          "model_module_version": "1.5.0",
          "state": {
            "_dom_classes": [],
            "_model_module": "@jupyter-widgets/controls",
            "_model_module_version": "1.5.0",
            "_model_name": "TextareaModel",
            "_view_count": null,
            "_view_module": "@jupyter-widgets/controls",
            "_view_module_version": "1.5.0",
            "_view_name": "TextareaView",
            "continuous_update": true,
            "description": "Project Description:",
            "description_tooltip": null,
            "disabled": false,
            "layout": "IPY_MODEL_017158d1a4aa4275aa19044277987833",
            "placeholder": "",
            "rows": null,
            "style": "IPY_MODEL_8dc9332d4dec44cf95c4bc0c58e84780",
            "value": ""
          }
        },
        "017158d1a4aa4275aa19044277987833": {
          "model_module": "@jupyter-widgets/base",
          "model_name": "LayoutModel",
          "model_module_version": "1.2.0",
          "state": {
            "_model_module": "@jupyter-widgets/base",
            "_model_module_version": "1.2.0",
            "_model_name": "LayoutModel",
            "_view_count": null,
            "_view_module": "@jupyter-widgets/base",
            "_view_module_version": "1.2.0",
            "_view_name": "LayoutView",
            "align_content": null,
            "align_items": null,
            "align_self": null,
            "border": null,
            "bottom": null,
            "display": null,
            "flex": null,
            "flex_flow": null,
            "grid_area": null,
            "grid_auto_columns": null,
            "grid_auto_flow": null,
            "grid_auto_rows": null,
            "grid_column": null,
            "grid_gap": null,
            "grid_row": null,
            "grid_template_areas": null,
            "grid_template_columns": null,
            "grid_template_rows": null,
            "height": "100%",
            "justify_content": null,
            "justify_items": null,
            "left": null,
            "margin": null,
            "max_height": null,
            "max_width": null,
            "min_height": null,
            "min_width": null,
            "object_fit": null,
            "object_position": null,
            "order": null,
            "overflow": null,
            "overflow_x": null,
            "overflow_y": null,
            "padding": null,
            "right": null,
            "top": null,
            "visibility": null,
            "width": "auto"
          }
        },
        "8dc9332d4dec44cf95c4bc0c58e84780": {
          "model_module": "@jupyter-widgets/controls",
          "model_name": "DescriptionStyleModel",
          "model_module_version": "1.5.0",
          "state": {
            "_model_module": "@jupyter-widgets/controls",
            "_model_module_version": "1.5.0",
            "_model_name": "DescriptionStyleModel",
            "_view_count": null,
            "_view_module": "@jupyter-widgets/base",
            "_view_module_version": "1.2.0",
            "_view_name": "StyleView",
            "description_width": "initial"
          }
        },
        "3f2202ba6fb14a16b31551eb2378238a": {
          "model_module": "@jupyter-widgets/controls",
          "model_name": "TextareaModel",
          "model_module_version": "1.5.0",
          "state": {
            "_dom_classes": [],
            "_model_module": "@jupyter-widgets/controls",
            "_model_module_version": "1.5.0",
            "_model_name": "TextareaModel",
            "_view_count": null,
            "_view_module": "@jupyter-widgets/controls",
            "_view_module_version": "1.5.0",
            "_view_name": "TextareaView",
            "continuous_update": true,
            "description": "Business Objective:",
            "description_tooltip": null,
            "disabled": false,
            "layout": "IPY_MODEL_a1759f6b24dc49728d31f055b2ac8d91",
            "placeholder": "",
            "rows": null,
            "style": "IPY_MODEL_355b510458394ea2bb0f7f40972571ea",
            "value": ""
          }
        },
        "a1759f6b24dc49728d31f055b2ac8d91": {
          "model_module": "@jupyter-widgets/base",
          "model_name": "LayoutModel",
          "model_module_version": "1.2.0",
          "state": {
            "_model_module": "@jupyter-widgets/base",
            "_model_module_version": "1.2.0",
            "_model_name": "LayoutModel",
            "_view_count": null,
            "_view_module": "@jupyter-widgets/base",
            "_view_module_version": "1.2.0",
            "_view_name": "LayoutView",
            "align_content": null,
            "align_items": null,
            "align_self": null,
            "border": null,
            "bottom": null,
            "display": null,
            "flex": null,
            "flex_flow": null,
            "grid_area": null,
            "grid_auto_columns": null,
            "grid_auto_flow": null,
            "grid_auto_rows": null,
            "grid_column": null,
            "grid_gap": null,
            "grid_row": null,
            "grid_template_areas": null,
            "grid_template_columns": null,
            "grid_template_rows": null,
            "height": "100%",
            "justify_content": null,
            "justify_items": null,
            "left": null,
            "margin": null,
            "max_height": null,
            "max_width": null,
            "min_height": null,
            "min_width": null,
            "object_fit": null,
            "object_position": null,
            "order": null,
            "overflow": null,
            "overflow_x": null,
            "overflow_y": null,
            "padding": null,
            "right": null,
            "top": null,
            "visibility": null,
            "width": "auto"
          }
        },
        "355b510458394ea2bb0f7f40972571ea": {
          "model_module": "@jupyter-widgets/controls",
          "model_name": "DescriptionStyleModel",
          "model_module_version": "1.5.0",
          "state": {
            "_model_module": "@jupyter-widgets/controls",
            "_model_module_version": "1.5.0",
            "_model_name": "DescriptionStyleModel",
            "_view_count": null,
            "_view_module": "@jupyter-widgets/base",
            "_view_module_version": "1.2.0",
            "_view_name": "StyleView",
            "description_width": "initial"
          }
        },
        "be7c1db020d94305bbce498e836468fb": {
          "model_module": "@jupyter-widgets/controls",
          "model_name": "TextareaModel",
          "model_module_version": "1.5.0",
          "state": {
            "_dom_classes": [],
            "_model_module": "@jupyter-widgets/controls",
            "_model_module_version": "1.5.0",
            "_model_name": "TextareaModel",
            "_view_count": null,
            "_view_module": "@jupyter-widgets/controls",
            "_view_module_version": "1.5.0",
            "_view_name": "TextareaView",
            "continuous_update": true,
            "description": "Research Questions:",
            "description_tooltip": null,
            "disabled": false,
            "layout": "IPY_MODEL_ee1c2d3fbb2a4d61918d469ff571c881",
            "placeholder": "",
            "rows": null,
            "style": "IPY_MODEL_59b56ba4df114733aacb47596b5faead",
            "value": ""
          }
        },
        "ee1c2d3fbb2a4d61918d469ff571c881": {
          "model_module": "@jupyter-widgets/base",
          "model_name": "LayoutModel",
          "model_module_version": "1.2.0",
          "state": {
            "_model_module": "@jupyter-widgets/base",
            "_model_module_version": "1.2.0",
            "_model_name": "LayoutModel",
            "_view_count": null,
            "_view_module": "@jupyter-widgets/base",
            "_view_module_version": "1.2.0",
            "_view_name": "LayoutView",
            "align_content": null,
            "align_items": null,
            "align_self": null,
            "border": null,
            "bottom": null,
            "display": null,
            "flex": null,
            "flex_flow": null,
            "grid_area": null,
            "grid_auto_columns": null,
            "grid_auto_flow": null,
            "grid_auto_rows": null,
            "grid_column": null,
            "grid_gap": null,
            "grid_row": null,
            "grid_template_areas": null,
            "grid_template_columns": null,
            "grid_template_rows": null,
            "height": "100%",
            "justify_content": null,
            "justify_items": null,
            "left": null,
            "margin": null,
            "max_height": null,
            "max_width": null,
            "min_height": null,
            "min_width": null,
            "object_fit": null,
            "object_position": null,
            "order": null,
            "overflow": null,
            "overflow_x": null,
            "overflow_y": null,
            "padding": null,
            "right": null,
            "top": null,
            "visibility": null,
            "width": "auto"
          }
        },
        "59b56ba4df114733aacb47596b5faead": {
          "model_module": "@jupyter-widgets/controls",
          "model_name": "DescriptionStyleModel",
          "model_module_version": "1.5.0",
          "state": {
            "_model_module": "@jupyter-widgets/controls",
            "_model_module_version": "1.5.0",
            "_model_name": "DescriptionStyleModel",
            "_view_count": null,
            "_view_module": "@jupyter-widgets/base",
            "_view_module_version": "1.2.0",
            "_view_name": "StyleView",
            "description_width": "initial"
          }
        }
      }
    }
  },
  "nbformat": 4,
  "nbformat_minor": 5
}