{
  "cells": [
    {
      "cell_type": "markdown",
      "metadata": {
        "id": "view-in-github",
        "colab_type": "text"
      },
      "source": [
        "<a href=\"https://colab.research.google.com/github/Nelkit/36103-AT2-data-analysis-project/blob/main/36103_AT2B_data_analysis_project.ipynb\" target=\"_parent\"><img src=\"https://colab.research.google.com/assets/colab-badge.svg\" alt=\"Open In Colab\"/></a>"
      ]
    },
    {
      "metadata": {
        "id": "7ecbbf899891818a"
      },
      "cell_type": "markdown",
      "source": [
        "# Assessment task 2: Data analysis project\n",
        "\n",
        "---\n",
        "\n"
      ],
      "id": "7ecbbf899891818a"
    },
    {
      "cell_type": "markdown",
      "metadata": {
        "id": "KFVpE17Ahezu"
      },
      "source": [
        "---\n",
        "## 0. Setup Environment"
      ],
      "id": "KFVpE17Ahezu"
    },
    {
      "cell_type": "markdown",
      "source": [],
      "metadata": {
        "id": "2_jhf77-W-n-"
      },
      "id": "2_jhf77-W-n-"
    },
    {
      "cell_type": "markdown",
      "source": [
        "### 0.a Install Mandatory Packages\n",
        "\n",
        "> Do not modify this code before running it"
      ],
      "metadata": {
        "id": "kWUmi7fakv5O"
      },
      "id": "kWUmi7fakv5O"
    },
    {
      "cell_type": "code",
      "source": [
        "# Do not modify this code\n",
        "\n",
        "import os\n",
        "import sys\n",
        "from pathlib import Path\n",
        "\n",
        "COURSE = \"36103\"\n",
        "ASSIGNMENT = \"AT2\"\n",
        "DATA = \"data\"\n",
        "\n",
        "asgmt_path = f\"{COURSE}/assignment/{ASSIGNMENT}\"\n",
        "root_path = \"./\"\n",
        "\n",
        "if os.getenv(\"COLAB_RELEASE_TAG\"):\n",
        "\n",
        "    from google.colab import drive\n",
        "    from pathlib import Path\n",
        "\n",
        "    print(\"\\n###### Connect to personal Google Drive ######\")\n",
        "    gdrive_path = \"/content/gdrive\"\n",
        "    drive.mount(gdrive_path)\n",
        "    root_path = f\"{gdrive_path}/MyDrive/\"\n",
        "\n",
        "print(\"\\n###### Setting up folders ######\")\n",
        "folder_path = Path(f\"{root_path}/{asgmt_path}/\") / DATA\n",
        "folder_path.mkdir(parents=True, exist_ok=True)\n",
        "print(f\"\\nYou can now save your data files in: {folder_path}\")\n",
        "\n",
        "if os.getenv(\"COLAB_RELEASE_TAG\"):\n",
        "    %cd {folder_path}\n"
      ],
      "metadata": {
        "colab": {
          "base_uri": "https://localhost:8080/"
        },
        "id": "S8jFaNXqvV5W",
        "outputId": "f72cb065-5ba2-474e-eb73-6f2ea3831da4"
      },
      "execution_count": null,
      "outputs": [
        {
          "output_type": "stream",
          "name": "stdout",
          "text": [
            "\n",
            "###### Connect to personal Google Drive ######\n",
            "Mounted at /content/gdrive\n",
            "\n",
            "###### Setting up folders ######\n",
            "\n",
            "You can now save your data files in: /content/gdrive/MyDrive/36103/assignment/AT2/data\n",
            "/content/gdrive/MyDrive/36103/assignment/AT2/data\n"
          ]
        }
      ],
      "id": "S8jFaNXqvV5W"
    },
    {
      "cell_type": "markdown",
      "source": [
        "### 0.b Disable Warnings Messages\n",
        "\n",
        "> Do not modify this code before running it"
      ],
      "metadata": {
        "id": "jM39DExClCc5"
      },
      "id": "jM39DExClCc5"
    },
    {
      "cell_type": "code",
      "source": [
        "import warnings\n",
        "warnings.simplefilter(action='ignore', category=FutureWarning)"
      ],
      "metadata": {
        "id": "6FneOmBfka9G"
      },
      "execution_count": null,
      "outputs": [],
      "id": "6FneOmBfka9G"
    },
    {
      "cell_type": "markdown",
      "source": [
        "### 0.c Install Additional Packages\n",
        "\n",
        "> If you are using additional packages, you need to install them here using the command: `! pip install <package_name>`"
      ],
      "metadata": {
        "id": "CgTrMfyylVLf"
      },
      "id": "CgTrMfyylVLf"
    },
    {
      "cell_type": "code",
      "source": [
        "!pip install scipy"
      ],
      "metadata": {
        "id": "D79tb2V-lVpJ",
        "colab": {
          "base_uri": "https://localhost:8080/"
        },
        "outputId": "04f6e50f-cab2-444c-a5e8-f4165cfa47dd"
      },
      "execution_count": null,
      "outputs": [
        {
          "output_type": "stream",
          "name": "stdout",
          "text": [
            "Requirement already satisfied: scipy in /usr/local/lib/python3.11/dist-packages (1.14.1)\n",
            "Requirement already satisfied: numpy<2.3,>=1.23.5 in /usr/local/lib/python3.11/dist-packages (from scipy) (2.0.2)\n"
          ]
        }
      ],
      "id": "D79tb2V-lVpJ"
    },
    {
      "cell_type": "markdown",
      "source": [
        "### 0.d Import Packages"
      ],
      "metadata": {
        "id": "mXFKfa2tp1ch"
      },
      "id": "mXFKfa2tp1ch"
    },
    {
      "cell_type": "code",
      "source": [
        "import ipywidgets as widgets\n",
        "import pandas as pd\n",
        "import numpy as np\n",
        "import altair as alt\n",
        "import seaborn as sns\n",
        "import matplotlib.pyplot as plt\n",
        "import scipy.stats as stats\n",
        "import matplotlib.gridspec as gridspec"
      ],
      "metadata": {
        "id": "GBEAwdncnlAx"
      },
      "execution_count": null,
      "outputs": [],
      "id": "GBEAwdncnlAx"
    },
    {
      "cell_type": "markdown",
      "source": [
        "### 0.f Reusable Functions"
      ],
      "metadata": {
        "id": "r9E5hpoz53dr"
      },
      "id": "r9E5hpoz53dr"
    },
    {
      "cell_type": "code",
      "source": [],
      "metadata": {
        "id": "py0mLFAikGee"
      },
      "id": "py0mLFAikGee",
      "execution_count": null,
      "outputs": []
    },
    {
      "metadata": {
        "id": "917251fc3a397c7e"
      },
      "cell_type": "markdown",
      "source": [
        "## 1. Introduction"
      ],
      "id": "917251fc3a397c7e"
    },
    {
      "cell_type": "code",
      "source": [
        "# @title 1.1 Project Description\n",
        "project_description = \"\"\n",
        "\n",
        "wgt_project_description = widgets.Textarea(\n",
        "    value=None,\n",
        "    placeholder=project_description,\n",
        "    description='Project Description:',\n",
        "    disabled=False,\n",
        "    style={'description_width': 'initial'},\n",
        "    layout=widgets.Layout(height=\"100%\", width=\"auto\")\n",
        ")\n",
        "wgt_project_description"
      ],
      "metadata": {
        "cellView": "form",
        "colab": {
          "base_uri": "https://localhost:8080/",
          "referenced_widgets": [
            "dc26687f928c4db196b14f9e5ecddd50",
            "017158d1a4aa4275aa19044277987833",
            "8dc9332d4dec44cf95c4bc0c58e84780"
          ],
          "height": 62
        },
        "id": "-U21y_pAwdJe",
        "outputId": "41914b39-4a4e-4372-9932-a6c58e98874e"
      },
      "execution_count": null,
      "outputs": [
        {
          "output_type": "display_data",
          "data": {
            "text/plain": [
              "Textarea(value='', description='Project Description:', layout=Layout(height='100%', width='auto'), placeholder…"
            ],
            "application/vnd.jupyter.widget-view+json": {
              "version_major": 2,
              "version_minor": 0,
              "model_id": "dc26687f928c4db196b14f9e5ecddd50"
            }
          },
          "metadata": {}
        }
      ],
      "id": "-U21y_pAwdJe"
    },
    {
      "cell_type": "code",
      "source": [
        "# @title 1.2 Business Objective\n",
        "business_objective = \"\"\n",
        "\n",
        "wgt_business_objective = widgets.Textarea(\n",
        "    value=None,\n",
        "    placeholder=business_objective,\n",
        "    description='Business Objective:',\n",
        "    disabled=False,\n",
        "    style={'description_width': 'initial'},\n",
        "    layout=widgets.Layout(height=\"100%\", width=\"auto\")\n",
        ")\n",
        "wgt_business_objective"
      ],
      "metadata": {
        "colab": {
          "base_uri": "https://localhost:8080/",
          "height": 62,
          "referenced_widgets": [
            "3f2202ba6fb14a16b31551eb2378238a",
            "a1759f6b24dc49728d31f055b2ac8d91",
            "355b510458394ea2bb0f7f40972571ea"
          ]
        },
        "cellView": "form",
        "id": "Bd01AWiRRNAH",
        "outputId": "e4e95554-a6ad-457f-991c-764b1c408ed3"
      },
      "id": "Bd01AWiRRNAH",
      "execution_count": null,
      "outputs": [
        {
          "output_type": "display_data",
          "data": {
            "text/plain": [
              "Textarea(value='', description='Business Objective:', layout=Layout(height='100%', width='auto'), placeholder=…"
            ],
            "application/vnd.jupyter.widget-view+json": {
              "version_major": 2,
              "version_minor": 0,
              "model_id": "3f2202ba6fb14a16b31551eb2378238a"
            }
          },
          "metadata": {}
        }
      ]
    },
    {
      "metadata": {
        "id": "8a9dcc98f366960a"
      },
      "cell_type": "markdown",
      "source": [
        "## 2. Data Loading and Overview"
      ],
      "id": "8a9dcc98f366960a"
    },
    {
      "metadata": {
        "id": "d3993c4a30c5e7dd"
      },
      "cell_type": "code",
      "outputs": [],
      "execution_count": null,
      "source": [],
      "id": "d3993c4a30c5e7dd"
    },
    {
      "metadata": {
        "id": "5705b5000d48113b"
      },
      "cell_type": "markdown",
      "source": [
        "## 3. Exploratory Data Analysis (EDA)"
      ],
      "id": "5705b5000d48113b"
    },
    {
      "cell_type": "markdown",
      "source": [
        "### 3.1 Explore features"
      ],
      "metadata": {
        "id": "AnWMgsJBSy0W"
      },
      "id": "AnWMgsJBSy0W"
    },
    {
      "metadata": {
        "id": "3530f4c7d37d19a0"
      },
      "cell_type": "code",
      "outputs": [],
      "execution_count": null,
      "source": [],
      "id": "3530f4c7d37d19a0"
    },
    {
      "cell_type": "markdown",
      "source": [
        "### 3.2 Explore target variable"
      ],
      "metadata": {
        "id": "RGHGfI84S_3r"
      },
      "id": "RGHGfI84S_3r"
    },
    {
      "metadata": {
        "id": "7591cad7ec85e202"
      },
      "cell_type": "markdown",
      "source": [
        "## 4. Data Preprocessing"
      ],
      "id": "7591cad7ec85e202"
    },
    {
      "metadata": {
        "id": "9cacaab9bd287708"
      },
      "cell_type": "code",
      "outputs": [],
      "execution_count": null,
      "source": [],
      "id": "9cacaab9bd287708"
    },
    {
      "metadata": {
        "id": "e5fce42e162937a7"
      },
      "cell_type": "markdown",
      "source": [
        "## 5. Feature Engineering"
      ],
      "id": "e5fce42e162937a7"
    },
    {
      "metadata": {
        "id": "66e9a96cb879d6d3"
      },
      "cell_type": "code",
      "outputs": [],
      "execution_count": null,
      "source": [],
      "id": "66e9a96cb879d6d3"
    },
    {
      "metadata": {
        "id": "55bb057cdcf3e08c"
      },
      "cell_type": "markdown",
      "source": [
        "## 6. Data Modeling"
      ],
      "id": "55bb057cdcf3e08c"
    },
    {
      "metadata": {
        "id": "dd804c114a0a16a7"
      },
      "cell_type": "code",
      "outputs": [],
      "execution_count": null,
      "source": [],
      "id": "dd804c114a0a16a7"
    },
    {
      "metadata": {
        "id": "5f7622c1324322df"
      },
      "cell_type": "markdown",
      "source": [
        "## 7. Model Evaluation"
      ],
      "id": "5f7622c1324322df"
    },
    {
      "metadata": {
        "id": "57bee6b5fa96940a"
      },
      "cell_type": "code",
      "outputs": [],
      "execution_count": null,
      "source": [],
      "id": "57bee6b5fa96940a"
    },
    {
      "metadata": {
        "id": "787a6e2d5bd00774"
      },
      "cell_type": "markdown",
      "source": [
        "## 8. Insights and Conclusions"
      ],
      "id": "787a6e2d5bd00774"
    },
    {
      "metadata": {
        "id": "f2a7bbb8f6f4c549"
      },
      "cell_type": "code",
      "outputs": [],
      "execution_count": null,
      "source": [],
      "id": "f2a7bbb8f6f4c549"
    }
  ],
  "metadata": {
    "kernelspec": {
      "display_name": "Python 3",
      "language": "python",
      "name": "python3"
    },
    "language_info": {
      "codemirror_mode": {
        "name": "ipython",
        "version": 2
      },
      "file_extension": ".py",
      "mimetype": "text/x-python",
      "name": "python",
      "nbconvert_exporter": "python",
      "pygments_lexer": "ipython2",
      "version": "2.7.6"
    },
    "colab": {
      "provenance": [],
      "include_colab_link": true
    },
    "widgets": {
      "application/vnd.jupyter.widget-state+json": {
        "dc26687f928c4db196b14f9e5ecddd50": {
          "model_module": "@jupyter-widgets/controls",
          "model_name": "TextareaModel",
          "model_module_version": "1.5.0",
          "state": {
            "_dom_classes": [],
            "_model_module": "@jupyter-widgets/controls",
            "_model_module_version": "1.5.0",
            "_model_name": "TextareaModel",
            "_view_count": null,
            "_view_module": "@jupyter-widgets/controls",
            "_view_module_version": "1.5.0",
            "_view_name": "TextareaView",
            "continuous_update": true,
            "description": "Project Description:",
            "description_tooltip": null,
            "disabled": false,
            "layout": "IPY_MODEL_017158d1a4aa4275aa19044277987833",
            "placeholder": "",
            "rows": null,
            "style": "IPY_MODEL_8dc9332d4dec44cf95c4bc0c58e84780",
            "value": ""
          }
        },
        "017158d1a4aa4275aa19044277987833": {
          "model_module": "@jupyter-widgets/base",
          "model_name": "LayoutModel",
          "model_module_version": "1.2.0",
          "state": {
            "_model_module": "@jupyter-widgets/base",
            "_model_module_version": "1.2.0",
            "_model_name": "LayoutModel",
            "_view_count": null,
            "_view_module": "@jupyter-widgets/base",
            "_view_module_version": "1.2.0",
            "_view_name": "LayoutView",
            "align_content": null,
            "align_items": null,
            "align_self": null,
            "border": null,
            "bottom": null,
            "display": null,
            "flex": null,
            "flex_flow": null,
            "grid_area": null,
            "grid_auto_columns": null,
            "grid_auto_flow": null,
            "grid_auto_rows": null,
            "grid_column": null,
            "grid_gap": null,
            "grid_row": null,
            "grid_template_areas": null,
            "grid_template_columns": null,
            "grid_template_rows": null,
            "height": "100%",
            "justify_content": null,
            "justify_items": null,
            "left": null,
            "margin": null,
            "max_height": null,
            "max_width": null,
            "min_height": null,
            "min_width": null,
            "object_fit": null,
            "object_position": null,
            "order": null,
            "overflow": null,
            "overflow_x": null,
            "overflow_y": null,
            "padding": null,
            "right": null,
            "top": null,
            "visibility": null,
            "width": "auto"
          }
        },
        "8dc9332d4dec44cf95c4bc0c58e84780": {
          "model_module": "@jupyter-widgets/controls",
          "model_name": "DescriptionStyleModel",
          "model_module_version": "1.5.0",
          "state": {
            "_model_module": "@jupyter-widgets/controls",
            "_model_module_version": "1.5.0",
            "_model_name": "DescriptionStyleModel",
            "_view_count": null,
            "_view_module": "@jupyter-widgets/base",
            "_view_module_version": "1.2.0",
            "_view_name": "StyleView",
            "description_width": "initial"
          }
        },
        "3f2202ba6fb14a16b31551eb2378238a": {
          "model_module": "@jupyter-widgets/controls",
          "model_name": "TextareaModel",
          "model_module_version": "1.5.0",
          "state": {
            "_dom_classes": [],
            "_model_module": "@jupyter-widgets/controls",
            "_model_module_version": "1.5.0",
            "_model_name": "TextareaModel",
            "_view_count": null,
            "_view_module": "@jupyter-widgets/controls",
            "_view_module_version": "1.5.0",
            "_view_name": "TextareaView",
            "continuous_update": true,
            "description": "Business Objective:",
            "description_tooltip": null,
            "disabled": false,
            "layout": "IPY_MODEL_a1759f6b24dc49728d31f055b2ac8d91",
            "placeholder": "",
            "rows": null,
            "style": "IPY_MODEL_355b510458394ea2bb0f7f40972571ea",
            "value": ""
          }
        },
        "a1759f6b24dc49728d31f055b2ac8d91": {
          "model_module": "@jupyter-widgets/base",
          "model_name": "LayoutModel",
          "model_module_version": "1.2.0",
          "state": {
            "_model_module": "@jupyter-widgets/base",
            "_model_module_version": "1.2.0",
            "_model_name": "LayoutModel",
            "_view_count": null,
            "_view_module": "@jupyter-widgets/base",
            "_view_module_version": "1.2.0",
            "_view_name": "LayoutView",
            "align_content": null,
            "align_items": null,
            "align_self": null,
            "border": null,
            "bottom": null,
            "display": null,
            "flex": null,
            "flex_flow": null,
            "grid_area": null,
            "grid_auto_columns": null,
            "grid_auto_flow": null,
            "grid_auto_rows": null,
            "grid_column": null,
            "grid_gap": null,
            "grid_row": null,
            "grid_template_areas": null,
            "grid_template_columns": null,
            "grid_template_rows": null,
            "height": "100%",
            "justify_content": null,
            "justify_items": null,
            "left": null,
            "margin": null,
            "max_height": null,
            "max_width": null,
            "min_height": null,
            "min_width": null,
            "object_fit": null,
            "object_position": null,
            "order": null,
            "overflow": null,
            "overflow_x": null,
            "overflow_y": null,
            "padding": null,
            "right": null,
            "top": null,
            "visibility": null,
            "width": "auto"
          }
        },
        "355b510458394ea2bb0f7f40972571ea": {
          "model_module": "@jupyter-widgets/controls",
          "model_name": "DescriptionStyleModel",
          "model_module_version": "1.5.0",
          "state": {
            "_model_module": "@jupyter-widgets/controls",
            "_model_module_version": "1.5.0",
            "_model_name": "DescriptionStyleModel",
            "_view_count": null,
            "_view_module": "@jupyter-widgets/base",
            "_view_module_version": "1.2.0",
            "_view_name": "StyleView",
            "description_width": "initial"
          }
        }
      }
    }
  },
  "nbformat": 4,
  "nbformat_minor": 5
}